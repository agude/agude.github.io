{
 "cells": [
  {
   "cell_type": "code",
   "execution_count": 1,
   "metadata": {
    "tags": []
   },
   "outputs": [],
   "source": [
    "%load_ext lab_black"
   ]
  },
  {
   "cell_type": "code",
   "execution_count": 2,
   "metadata": {},
   "outputs": [],
   "source": [
    "import matplotlib.pyplot as plt\n",
    "import numpy as np\n",
    "import pandas as pd\n",
    "import seaborn as sns\n",
    "\n",
    "from matplotlib.ticker import FuncFormatter\n",
    "from matplotlib.transforms import Affine2D\n",
    "from matplotlib.lines import Line2D"
   ]
  },
  {
   "cell_type": "code",
   "execution_count": 3,
   "metadata": {},
   "outputs": [],
   "source": [
    "# Metadata saved to output plots\n",
    "METADATA = {\"Contributor\": \"Alexander Gude\", \"Rights\": \"CC-BY-SA 4.0\"}"
   ]
  },
  {
   "cell_type": "code",
   "execution_count": 4,
   "metadata": {},
   "outputs": [],
   "source": [
    "# Show plots inline\n",
    "%matplotlib inline"
   ]
  },
  {
   "cell_type": "code",
   "execution_count": 5,
   "metadata": {},
   "outputs": [],
   "source": [
    "COLORS = {\n",
    "    \"zillow\": \"#006AFF\",\n",
    "    \"redfin\": \"#E62E2E\",\n",
    "    \"xome\": \"#FF5C39\",\n",
    "    \"realtor.com\": \"#D92228\",\n",
    "}"
   ]
  },
  {
   "cell_type": "markdown",
   "metadata": {
    "tags": []
   },
   "source": [
    "# Helper functions"
   ]
  },
  {
   "cell_type": "code",
   "execution_count": 6,
   "metadata": {},
   "outputs": [],
   "source": [
    "# We should be able to just set rcParams, expect Jupyter has a bug:\n",
    "# https://github.com/jupyter/notebook/issues/3385\n",
    "#\n",
    "# So we have to call this function every time we want to plot.\n",
    "\n",
    "\n",
    "def setup_plot(title=None, xlabel=None, ylabel=None):\n",
    "    \"\"\"Set up a simple, single pane plot with custom configuration.\n",
    "\n",
    "    Args:\n",
    "        title (str, optional): The title of the plot.\n",
    "        xlabel (str, optional): The xlabel of the plot.\n",
    "        ylabel (str, optional): The ylabel of the plot.\n",
    "\n",
    "    Returns:\n",
    "        (fig, ax): A Matplotlib figure and axis object.\n",
    "\n",
    "    \"\"\"\n",
    "    # Plot Size\n",
    "    plt.rcParams[\"figure.figsize\"] = (12, 7)  # (Width, height)\n",
    "\n",
    "    # Text Size\n",
    "    SMALL = 12\n",
    "    MEDIUM = 16\n",
    "    LARGE = 20\n",
    "    HUGE = 28\n",
    "    plt.rcParams[\"axes.titlesize\"] = HUGE\n",
    "    plt.rcParams[\"figure.titlesize\"] = HUGE\n",
    "    plt.rcParams[\"axes.labelsize\"] = LARGE\n",
    "    plt.rcParams[\"legend.fontsize\"] = LARGE\n",
    "    plt.rcParams[\"xtick.labelsize\"] = MEDIUM\n",
    "    plt.rcParams[\"ytick.labelsize\"] = MEDIUM\n",
    "    plt.rcParams[\"font.size\"] = SMALL\n",
    "\n",
    "    # Legend\n",
    "    plt.rcParams[\"legend.frameon\"] = True\n",
    "    plt.rcParams[\"legend.framealpha\"] = 1\n",
    "    plt.rcParams[\"legend.facecolor\"] = \"white\"\n",
    "    plt.rcParams[\"legend.edgecolor\"] = \"black\"\n",
    "\n",
    "    # Figure output\n",
    "    plt.rcParams[\"savefig.dpi\"] = 300\n",
    "\n",
    "    # Make the plol\n",
    "    fig, ax = plt.subplots()\n",
    "    ax.set_title(title)\n",
    "    ax.set_xlabel(xlabel)\n",
    "    ax.set_ylabel(ylabel)\n",
    "\n",
    "    # Make the title and label area opaque instead of transparent\n",
    "    fig.patch.set_facecolor(ax.get_facecolor())\n",
    "\n",
    "    return fig, ax"
   ]
  },
  {
   "cell_type": "code",
   "execution_count": 7,
   "metadata": {},
   "outputs": [],
   "source": [
    "def draw_colored_legend(ax, loc=\"best\"):\n",
    "    \"\"\"Draw a legend for the plot with the text colored to match the points.\n",
    "\n",
    "    Args:\n",
    "        ax (matplotlib axis): The axis to draw on.\n",
    "\n",
    "    \"\"\"\n",
    "    # Draw a legend where there is no space around the line/point so\n",
    "    # that the text is in the right place when we turn off the line/point.\n",
    "    legend = ax.legend(handlelength=0, handletextpad=0, loc=loc)\n",
    "\n",
    "    handles = legend.legendHandles\n",
    "    texts = legend.get_texts()\n",
    "    for handle, text in zip(handles, texts):\n",
    "        # Change the color of the text to match the line or points\n",
    "        try:\n",
    "            # Points and some other objects have this\n",
    "            color = handle.get_facecolor()[0]\n",
    "        except AttributeError:\n",
    "            # Lines have this\n",
    "            color = handle.get_color()\n",
    "\n",
    "        text.set_color(color)\n",
    "\n",
    "        # Turn off the point\n",
    "        handle.set_visible(False)"
   ]
  },
  {
   "cell_type": "code",
   "execution_count": 8,
   "metadata": {},
   "outputs": [],
   "source": [
    "def save_plot(fig, filename):\n",
    "    \"\"\"Save the plot with metadata and tight layout.\n",
    "\n",
    "    Args:\n",
    "        fig (matplotlib figure): The figure to save.\n",
    "        filename (str): The loction to save the file to.\n",
    "\n",
    "    \"\"\"\n",
    "    metadata = METADATA\n",
    "\n",
    "    fig.savefig(\n",
    "        fname=f\"{filename}\",\n",
    "        bbox_inches=\"tight\",\n",
    "        metadata=metadata,\n",
    "    )"
   ]
  },
  {
   "cell_type": "code",
   "execution_count": 9,
   "metadata": {},
   "outputs": [],
   "source": [
    "def number_formatter(number, pos=None):\n",
    "    \"\"\"Convert a number into a human readable format.\n",
    "\n",
    "    Via https://flynn.gg/blog/better-matplotlib-charts/\"\"\"\n",
    "    number /= 1000.0\n",
    "\n",
    "    return f\"${number:,.0f}K\""
   ]
  },
  {
   "cell_type": "markdown",
   "metadata": {},
   "source": [
    "# Data"
   ]
  },
  {
   "cell_type": "code",
   "execution_count": 10,
   "metadata": {},
   "outputs": [
    {
     "data": {
      "text/html": [
       "<div>\n",
       "<style scoped>\n",
       "    .dataframe tbody tr th:only-of-type {\n",
       "        vertical-align: middle;\n",
       "    }\n",
       "\n",
       "    .dataframe tbody tr th {\n",
       "        vertical-align: top;\n",
       "    }\n",
       "\n",
       "    .dataframe thead th {\n",
       "        text-align: right;\n",
       "    }\n",
       "</style>\n",
       "<table border=\"1\" class=\"dataframe\">\n",
       "  <thead>\n",
       "    <tr style=\"text-align: right;\">\n",
       "      <th></th>\n",
       "      <th>company</th>\n",
       "      <th>date</th>\n",
       "      <th>estimate</th>\n",
       "      <th>notes</th>\n",
       "    </tr>\n",
       "  </thead>\n",
       "  <tbody>\n",
       "    <tr>\n",
       "      <th>1</th>\n",
       "      <td>redfin</td>\n",
       "      <td>2022-02-14</td>\n",
       "      <td>1189113.0</td>\n",
       "      <td>NaN</td>\n",
       "    </tr>\n",
       "    <tr>\n",
       "      <th>0</th>\n",
       "      <td>zillow</td>\n",
       "      <td>2022-02-14</td>\n",
       "      <td>883000.0</td>\n",
       "      <td>NaN</td>\n",
       "    </tr>\n",
       "    <tr>\n",
       "      <th>2</th>\n",
       "      <td>list</td>\n",
       "      <td>2022-02-20</td>\n",
       "      <td>998000.0</td>\n",
       "      <td>list</td>\n",
       "    </tr>\n",
       "    <tr>\n",
       "      <th>3</th>\n",
       "      <td>redfin</td>\n",
       "      <td>2022-02-20</td>\n",
       "      <td>1005749.0</td>\n",
       "      <td>NaN</td>\n",
       "    </tr>\n",
       "    <tr>\n",
       "      <th>4</th>\n",
       "      <td>redfin</td>\n",
       "      <td>2022-02-25</td>\n",
       "      <td>1143186.0</td>\n",
       "      <td>NaN</td>\n",
       "    </tr>\n",
       "    <tr>\n",
       "      <th>...</th>\n",
       "      <td>...</td>\n",
       "      <td>...</td>\n",
       "      <td>...</td>\n",
       "      <td>...</td>\n",
       "    </tr>\n",
       "    <tr>\n",
       "      <th>69</th>\n",
       "      <td>zillow</td>\n",
       "      <td>2022-04-07</td>\n",
       "      <td>1280200.0</td>\n",
       "      <td>NaN</td>\n",
       "    </tr>\n",
       "    <tr>\n",
       "      <th>72</th>\n",
       "      <td>redfin</td>\n",
       "      <td>2022-04-09</td>\n",
       "      <td>1294053.0</td>\n",
       "      <td>NaN</td>\n",
       "    </tr>\n",
       "    <tr>\n",
       "      <th>71</th>\n",
       "      <td>zillow</td>\n",
       "      <td>2022-04-09</td>\n",
       "      <td>1288400.0</td>\n",
       "      <td>NaN</td>\n",
       "    </tr>\n",
       "    <tr>\n",
       "      <th>74</th>\n",
       "      <td>redfin</td>\n",
       "      <td>2022-04-10</td>\n",
       "      <td>1294053.0</td>\n",
       "      <td>NaN</td>\n",
       "    </tr>\n",
       "    <tr>\n",
       "      <th>73</th>\n",
       "      <td>zillow</td>\n",
       "      <td>2022-04-10</td>\n",
       "      <td>1288400.0</td>\n",
       "      <td>NaN</td>\n",
       "    </tr>\n",
       "  </tbody>\n",
       "</table>\n",
       "<p>75 rows × 4 columns</p>\n",
       "</div>"
      ],
      "text/plain": [
       "   company       date   estimate notes\n",
       "1   redfin 2022-02-14  1189113.0   NaN\n",
       "0   zillow 2022-02-14   883000.0   NaN\n",
       "2     list 2022-02-20   998000.0  list\n",
       "3   redfin 2022-02-20  1005749.0   NaN\n",
       "4   redfin 2022-02-25  1143186.0   NaN\n",
       "..     ...        ...        ...   ...\n",
       "69  zillow 2022-04-07  1280200.0   NaN\n",
       "72  redfin 2022-04-09  1294053.0   NaN\n",
       "71  zillow 2022-04-09  1288400.0   NaN\n",
       "74  redfin 2022-04-10  1294053.0   NaN\n",
       "73  zillow 2022-04-10  1288400.0   NaN\n",
       "\n",
       "[75 rows x 4 columns]"
      ]
     },
     "execution_count": 10,
     "metadata": {},
     "output_type": "execute_result"
    }
   ],
   "source": [
    "df = pd.read_csv(\n",
    "    \"./home_price_estimate_timeseries_data.csv\", header=0, index_col=False, parse_dates=[\"date\"]\n",
    ").sort_values([\"date\", \"company\"])\n",
    "\n",
    "# Convert dollars to float\n",
    "df[\"estimate\"] = df[\"estimate\"].replace(\"\\D\", \"\", regex=True).astype(float)\n",
    "\n",
    "\n",
    "df"
   ]
  },
  {
   "cell_type": "code",
   "execution_count": 11,
   "metadata": {},
   "outputs": [
    {
     "data": {
      "text/plain": [
       "(998000.0, 1275000.0)"
      ]
     },
     "execution_count": 11,
     "metadata": {},
     "output_type": "execute_result"
    }
   ],
   "source": [
    "list_price = df[df[\"company\"] == \"list\"][\"estimate\"].item()\n",
    "sold_price = df[df[\"company\"] == \"sold\"][\"estimate\"].item()\n",
    "\n",
    "rounded_list_price = round(list_price / 1000)\n",
    "rounded_sold_price = round(sold_price / 1000)\n",
    "\n",
    "list_date = df[df[\"company\"] == \"list\"][\"date\"].item()\n",
    "pending_date = df[df[\"company\"] == \"pending\"][\"date\"].item()\n",
    "sold_date = df[df[\"company\"] == \"sold\"][\"date\"].item()\n",
    "\n",
    "list_price, sold_price"
   ]
  },
  {
   "cell_type": "code",
   "execution_count": 12,
   "metadata": {},
   "outputs": [
    {
     "data": {
      "text/html": [
       "<div>\n",
       "<style scoped>\n",
       "    .dataframe tbody tr th:only-of-type {\n",
       "        vertical-align: middle;\n",
       "    }\n",
       "\n",
       "    .dataframe tbody tr th {\n",
       "        vertical-align: top;\n",
       "    }\n",
       "\n",
       "    .dataframe thead th {\n",
       "        text-align: right;\n",
       "    }\n",
       "</style>\n",
       "<table border=\"1\" class=\"dataframe\">\n",
       "  <thead>\n",
       "    <tr style=\"text-align: right;\">\n",
       "      <th></th>\n",
       "      <th>company</th>\n",
       "      <th>date</th>\n",
       "      <th>estimate</th>\n",
       "      <th>notes</th>\n",
       "    </tr>\n",
       "  </thead>\n",
       "  <tbody>\n",
       "    <tr>\n",
       "      <th>1</th>\n",
       "      <td>redfin</td>\n",
       "      <td>2022-02-14</td>\n",
       "      <td>1189113.0</td>\n",
       "      <td>NaN</td>\n",
       "    </tr>\n",
       "    <tr>\n",
       "      <th>0</th>\n",
       "      <td>zillow</td>\n",
       "      <td>2022-02-14</td>\n",
       "      <td>883000.0</td>\n",
       "      <td>NaN</td>\n",
       "    </tr>\n",
       "    <tr>\n",
       "      <th>3</th>\n",
       "      <td>redfin</td>\n",
       "      <td>2022-02-20</td>\n",
       "      <td>1005749.0</td>\n",
       "      <td>NaN</td>\n",
       "    </tr>\n",
       "    <tr>\n",
       "      <th>4</th>\n",
       "      <td>redfin</td>\n",
       "      <td>2022-02-25</td>\n",
       "      <td>1143186.0</td>\n",
       "      <td>NaN</td>\n",
       "    </tr>\n",
       "    <tr>\n",
       "      <th>5</th>\n",
       "      <td>zillow</td>\n",
       "      <td>2022-02-25</td>\n",
       "      <td>1062600.0</td>\n",
       "      <td>NaN</td>\n",
       "    </tr>\n",
       "    <tr>\n",
       "      <th>...</th>\n",
       "      <td>...</td>\n",
       "      <td>...</td>\n",
       "      <td>...</td>\n",
       "      <td>...</td>\n",
       "    </tr>\n",
       "    <tr>\n",
       "      <th>69</th>\n",
       "      <td>zillow</td>\n",
       "      <td>2022-04-07</td>\n",
       "      <td>1280200.0</td>\n",
       "      <td>NaN</td>\n",
       "    </tr>\n",
       "    <tr>\n",
       "      <th>72</th>\n",
       "      <td>redfin</td>\n",
       "      <td>2022-04-09</td>\n",
       "      <td>1294053.0</td>\n",
       "      <td>NaN</td>\n",
       "    </tr>\n",
       "    <tr>\n",
       "      <th>71</th>\n",
       "      <td>zillow</td>\n",
       "      <td>2022-04-09</td>\n",
       "      <td>1288400.0</td>\n",
       "      <td>NaN</td>\n",
       "    </tr>\n",
       "    <tr>\n",
       "      <th>74</th>\n",
       "      <td>redfin</td>\n",
       "      <td>2022-04-10</td>\n",
       "      <td>1294053.0</td>\n",
       "      <td>NaN</td>\n",
       "    </tr>\n",
       "    <tr>\n",
       "      <th>73</th>\n",
       "      <td>zillow</td>\n",
       "      <td>2022-04-10</td>\n",
       "      <td>1288400.0</td>\n",
       "      <td>NaN</td>\n",
       "    </tr>\n",
       "  </tbody>\n",
       "</table>\n",
       "<p>70 rows × 4 columns</p>\n",
       "</div>"
      ],
      "text/plain": [
       "   company       date   estimate notes\n",
       "1   redfin 2022-02-14  1189113.0   NaN\n",
       "0   zillow 2022-02-14   883000.0   NaN\n",
       "3   redfin 2022-02-20  1005749.0   NaN\n",
       "4   redfin 2022-02-25  1143186.0   NaN\n",
       "5   zillow 2022-02-25  1062600.0   NaN\n",
       "..     ...        ...        ...   ...\n",
       "69  zillow 2022-04-07  1280200.0   NaN\n",
       "72  redfin 2022-04-09  1294053.0   NaN\n",
       "71  zillow 2022-04-09  1288400.0   NaN\n",
       "74  redfin 2022-04-10  1294053.0   NaN\n",
       "73  zillow 2022-04-10  1288400.0   NaN\n",
       "\n",
       "[70 rows x 4 columns]"
      ]
     },
     "execution_count": 12,
     "metadata": {},
     "output_type": "execute_result"
    }
   ],
   "source": [
    "companies_df = df[df[\"company\"].isin([\"zillow\", \"redfin\"])]\n",
    "\n",
    "companies_df"
   ]
  },
  {
   "cell_type": "code",
   "execution_count": 13,
   "metadata": {},
   "outputs": [
    {
     "data": {
      "text/plain": [
       "{'Redfin', 'Zillow'}"
      ]
     },
     "execution_count": 13,
     "metadata": {},
     "output_type": "execute_result"
    }
   ],
   "source": [
    "company_names = {c.capitalize() for c in companies_df[\"company\"]}\n",
    "\n",
    "company_names"
   ]
  },
  {
   "cell_type": "code",
   "execution_count": 14,
   "metadata": {},
   "outputs": [
    {
     "data": {
      "text/plain": [
       "['#006AFF', '#E62E2E']"
      ]
     },
     "execution_count": 14,
     "metadata": {},
     "output_type": "execute_result"
    }
   ],
   "source": [
    "color_list = [COLORS.get(company.lower()) for company in company_names]\n",
    "\n",
    "color_list"
   ]
  },
  {
   "cell_type": "markdown",
   "metadata": {
    "tags": []
   },
   "source": [
    "# Plotting"
   ]
  },
  {
   "cell_type": "code",
   "execution_count": 15,
   "metadata": {
    "tags": []
   },
   "outputs": [
    {
     "data": {
      "image/png": "[encoded data removed]",
      "text/plain": [
       "<Figure size 864x504 with 1 Axes>"
      ]
     },
     "metadata": {},
     "output_type": "display_data"
    }
   ],
   "source": [
    "fig, ax = setup_plot(\"Price Estimate Timeseries\")\n",
    "\n",
    "# Format y-axis for dollars\n",
    "ax.yaxis.set_major_formatter(FuncFormatter(number_formatter))\n",
    "\n",
    "# Scatter plot uses a different size that is the square of the marker size\n",
    "marker_size = 10\n",
    "scatter_size = marker_size ** 2\n",
    "markers = [\"o\", \"^\"]\n",
    "\n",
    "# Plot estimates\n",
    "for company_name, color, marker in zip(company_names, color_list, markers):\n",
    "    company_df = companies_df[companies_df[\"company\"] == company_name.lower()]\n",
    "\n",
    "    ax.scatter(\n",
    "        x=company_df[\"date\"].values,\n",
    "        y=company_df[\"estimate\"].values,\n",
    "        color=color,\n",
    "        s=scatter_size,\n",
    "        label=company_name,\n",
    "        marker=marker,\n",
    "    )\n",
    "\n",
    "# Draw list and sales prices\n",
    "ax.axhline(y=list_price, color=\"black\", zorder=-1, linestyle=\"dashed\")\n",
    "ax.axhline(y=sold_price, color=\"black\", zorder=-1)\n",
    "\n",
    "text_x_date = pd.to_datetime(\"2022-02-12\")\n",
    "ax.text(\n",
    "    x=text_x_date,\n",
    "    y=list_price - 3000,\n",
    "    s=f\"Listed: ${rounded_list_price:,.0f}K\",\n",
    "    fontsize=20,\n",
    "    verticalalignment=\"top\",\n",
    ")\n",
    "ax.text(\n",
    "    x=text_x_date,\n",
    "    y=sold_price,\n",
    "    s=f\"Sold: ${rounded_sold_price:,.0f}K\",\n",
    "    fontsize=20,\n",
    "    verticalalignment=\"bottom\",\n",
    ")\n",
    "\n",
    "# Drawing list, pending, and sold dates\n",
    "# ax.axvline(x=list_date, color=\"black\", zorder=-1)\n",
    "# ax.axvline(x=pending_date, color=\"black\", zorder=-1)\n",
    "# ax.axvline(x=sold_date, color=\"black\", zorder=-1)\n",
    "# ax.axvline(x=pd.to_datetime(\"2022-04-02\"), color=\"green\")  # Next Saturday\n",
    "# ax.axvline(x=pd.to_datetime(\"2022-02-25\"), color=\"green\")  # Next Saturday\n",
    "\n",
    "# Draw legend by points\n",
    "legend_x_date = pd.to_datetime(\"2022-02-12\")\n",
    "offset = 20_000\n",
    "for company_name, color, y in zip(company_names, color_list, [1_189_113, 883_000]):\n",
    "    ax.text(\n",
    "        x=legend_x_date,\n",
    "        y=y + offset,\n",
    "        s=company_name,\n",
    "        fontsize=24,\n",
    "        color=color,\n",
    "    )\n",
    "\n",
    "# Adjust x-axis labels\n",
    "ax.xaxis.set_ticks_position(\"none\")  # Remove the line from ticks\n",
    "ax.yaxis.set_ticks_position(\"none\")\n",
    "\n",
    "ax.set_xticks([list_date, pending_date, sold_date])\n",
    "ax.set_xticklabels([\"Listed\", \"Pending\", \"Sold\"])\n",
    "ax.tick_params(axis=\"x\", labelsize=20)\n",
    "\n",
    "sns.despine(top=True, bottom=True, left=True, right=True)\n",
    "\n",
    "for ext in (\"png\", \"svg\"):\n",
    "    save_plot(fig, f\"/tmp/home_price_estimate_timeseries_comparison.{ext}\")"
   ]
  }
 ],
 "metadata": {
  "kernelspec": {
   "display_name": "Python 3 (ipykernel)",
   "language": "python",
   "name": "python3"
  },
  "language_info": {
   "codemirror_mode": {
    "name": "ipython",
    "version": 3
   },
   "file_extension": ".py",
   "mimetype": "text/x-python",
   "name": "python",
   "nbconvert_exporter": "python",
   "pygments_lexer": "ipython3",
   "version": "3.9.9"
  }
 },
 "nbformat": 4,
 "nbformat_minor": 4
}
