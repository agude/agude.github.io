{
 "cells": [
  {
   "cell_type": "code",
   "execution_count": 1,
   "metadata": {},
   "outputs": [
    {
     "data": {
      "application/javascript": [
       "\n",
       "            setTimeout(function() {\n",
       "                var nbb_cell_id = 1;\n",
       "                var nbb_unformatted_code = \"%load_ext nb_black\";\n",
       "                var nbb_formatted_code = \"%load_ext nb_black\";\n",
       "                var nbb_cells = Jupyter.notebook.get_cells();\n",
       "                for (var i = 0; i < nbb_cells.length; ++i) {\n",
       "                    if (nbb_cells[i].input_prompt_number == nbb_cell_id) {\n",
       "                        if (nbb_cells[i].get_text() == nbb_unformatted_code) {\n",
       "                             nbb_cells[i].set_text(nbb_formatted_code);\n",
       "                        }\n",
       "                        break;\n",
       "                    }\n",
       "                }\n",
       "            }, 500);\n",
       "            "
      ],
      "text/plain": [
       "<IPython.core.display.Javascript object>"
      ]
     },
     "metadata": {},
     "output_type": "display_data"
    }
   ],
   "source": [
    "%load_ext nb_black"
   ]
  },
  {
   "cell_type": "code",
   "execution_count": 2,
   "metadata": {},
   "outputs": [
    {
     "data": {
      "application/javascript": [
       "\n",
       "            setTimeout(function() {\n",
       "                var nbb_cell_id = 2;\n",
       "                var nbb_unformatted_code = \"from dateutil.relativedelta import relativedelta\\nimport datetime\\nimport matplotlib.pyplot as plt\\nimport numpy as np\\nimport pandas as pd\\nimport seaborn as sns\\nfrom math import ceil\\nfrom matplotlib.lines import Line2D\\n\\nfrom pandas.plotting import register_matplotlib_converters\\n\\nregister_matplotlib_converters()\";\n",
       "                var nbb_formatted_code = \"from dateutil.relativedelta import relativedelta\\nimport datetime\\nimport matplotlib.pyplot as plt\\nimport numpy as np\\nimport pandas as pd\\nimport seaborn as sns\\nfrom math import ceil\\nfrom matplotlib.lines import Line2D\\n\\nfrom pandas.plotting import register_matplotlib_converters\\n\\nregister_matplotlib_converters()\";\n",
       "                var nbb_cells = Jupyter.notebook.get_cells();\n",
       "                for (var i = 0; i < nbb_cells.length; ++i) {\n",
       "                    if (nbb_cells[i].input_prompt_number == nbb_cell_id) {\n",
       "                        if (nbb_cells[i].get_text() == nbb_unformatted_code) {\n",
       "                             nbb_cells[i].set_text(nbb_formatted_code);\n",
       "                        }\n",
       "                        break;\n",
       "                    }\n",
       "                }\n",
       "            }, 500);\n",
       "            "
      ],
      "text/plain": [
       "<IPython.core.display.Javascript object>"
      ]
     },
     "metadata": {},
     "output_type": "display_data"
    }
   ],
   "source": [
    "from dateutil.relativedelta import relativedelta\n",
    "import datetime\n",
    "import matplotlib.pyplot as plt\n",
    "import numpy as np\n",
    "import pandas as pd\n",
    "import seaborn as sns\n",
    "from math import ceil\n",
    "from matplotlib.lines import Line2D\n",
    "\n",
    "from pandas.plotting import register_matplotlib_converters\n",
    "\n",
    "register_matplotlib_converters()"
   ]
  },
  {
   "cell_type": "code",
   "execution_count": 3,
   "metadata": {},
   "outputs": [
    {
     "data": {
      "application/javascript": [
       "\n",
       "            setTimeout(function() {\n",
       "                var nbb_cell_id = 3;\n",
       "                var nbb_unformatted_code = \"# Set up plotting\\ncurrent_palette = sns.color_palette()\\nLANGUAGE_COLORS = {\\n    \\\"Chinese\\\": current_palette[0],\\n    \\\"English\\\": current_palette[1],\\n    \\\"Spanish\\\": current_palette[2],\\n    \\\"Sign\\\": current_palette[3],\\n    \\\"Animal Sound\\\": current_palette[4],\\n}\\n\\n# Set plotting style\\nsns.set_style(\\\"white\\\")\\n\\n# Plot constants\\nWIDTH = 12\\nHEIGHT = 7\\n\\n# Plot constants\\nX_MIN, X_MAX = (\\\"2018-11-01\\\", \\\"2019-12-01\\\")\\n\\nY_MIN, Y_MAX = (0.38041005786659937, 256.8277838060705)\\n\\nTITLE_SIZE = 26\\nAXIS_TITLE_SIZE = 20\\n\\n%matplotlib inline\";\n",
       "                var nbb_formatted_code = \"# Set up plotting\\ncurrent_palette = sns.color_palette()\\nLANGUAGE_COLORS = {\\n    \\\"Chinese\\\": current_palette[0],\\n    \\\"English\\\": current_palette[1],\\n    \\\"Spanish\\\": current_palette[2],\\n    \\\"Sign\\\": current_palette[3],\\n    \\\"Animal Sound\\\": current_palette[4],\\n}\\n\\n# Set plotting style\\nsns.set_style(\\\"white\\\")\\n\\n# Plot constants\\nWIDTH = 12\\nHEIGHT = 7\\n\\n# Plot constants\\nX_MIN, X_MAX = (\\\"2018-11-01\\\", \\\"2019-12-01\\\")\\n\\nY_MIN, Y_MAX = (0.38041005786659937, 256.8277838060705)\\n\\nTITLE_SIZE = 26\\nAXIS_TITLE_SIZE = 20\\n\\n%matplotlib inline\";\n",
       "                var nbb_cells = Jupyter.notebook.get_cells();\n",
       "                for (var i = 0; i < nbb_cells.length; ++i) {\n",
       "                    if (nbb_cells[i].input_prompt_number == nbb_cell_id) {\n",
       "                        if (nbb_cells[i].get_text() == nbb_unformatted_code) {\n",
       "                             nbb_cells[i].set_text(nbb_formatted_code);\n",
       "                        }\n",
       "                        break;\n",
       "                    }\n",
       "                }\n",
       "            }, 500);\n",
       "            "
      ],
      "text/plain": [
       "<IPython.core.display.Javascript object>"
      ]
     },
     "metadata": {},
     "output_type": "display_data"
    }
   ],
   "source": [
    "# Set up plotting\n",
    "current_palette = sns.color_palette()\n",
    "LANGUAGE_COLORS = {\n",
    "    \"Chinese\": current_palette[0],\n",
    "    \"English\": current_palette[1],\n",
    "    \"Spanish\": current_palette[2],\n",
    "    \"Sign\": current_palette[3],\n",
    "    \"Animal Sound\": current_palette[4],\n",
    "}\n",
    "\n",
    "# Set plotting style\n",
    "sns.set_style(\"white\")\n",
    "\n",
    "# Plot constants\n",
    "WIDTH = 12\n",
    "HEIGHT = 7\n",
    "\n",
    "# Plot constants\n",
    "X_MIN, X_MAX = (\"2018-11-01\", \"2019-12-01\")\n",
    "\n",
    "Y_MIN, Y_MAX = (0.38041005786659937, 256.8277838060705)\n",
    "\n",
    "TITLE_SIZE = 26\n",
    "AXIS_TITLE_SIZE = 20\n",
    "\n",
    "%matplotlib inline"
   ]
  },
  {
   "cell_type": "code",
   "execution_count": 4,
   "metadata": {},
   "outputs": [
    {
     "data": {
      "application/javascript": [
       "\n",
       "            setTimeout(function() {\n",
       "                var nbb_cell_id = 4;\n",
       "                var nbb_unformatted_code = \"CHILD0_BIRTH_DATE = datetime.date(2016, 6, 24)\\nCHILD1_BIRTH_DATE = datetime.date(2017, 12, 23)\";\n",
       "                var nbb_formatted_code = \"CHILD0_BIRTH_DATE = datetime.date(2016, 6, 24)\\nCHILD1_BIRTH_DATE = datetime.date(2017, 12, 23)\";\n",
       "                var nbb_cells = Jupyter.notebook.get_cells();\n",
       "                for (var i = 0; i < nbb_cells.length; ++i) {\n",
       "                    if (nbb_cells[i].input_prompt_number == nbb_cell_id) {\n",
       "                        if (nbb_cells[i].get_text() == nbb_unformatted_code) {\n",
       "                             nbb_cells[i].set_text(nbb_formatted_code);\n",
       "                        }\n",
       "                        break;\n",
       "                    }\n",
       "                }\n",
       "            }, 500);\n",
       "            "
      ],
      "text/plain": [
       "<IPython.core.display.Javascript object>"
      ]
     },
     "metadata": {},
     "output_type": "display_data"
    }
   ],
   "source": [
    "CHILD0_BIRTH_DATE = datetime.date(2016, 6, 1)\n",
    "CHILD1_BIRTH_DATE = datetime.date(2017, 12, 1)"
   ]
  },
  {
   "cell_type": "markdown",
   "metadata": {},
   "source": [
    "## Normalize the data"
   ]
  },
  {
   "cell_type": "code",
   "execution_count": 5,
   "metadata": {},
   "outputs": [
    {
     "data": {
      "application/javascript": [
       "\n",
       "            setTimeout(function() {\n",
       "                var nbb_cell_id = 5;\n",
       "                var nbb_unformatted_code = \"def load_data(\\n    file, column_names=[\\\"timestamp\\\", \\\"word\\\", \\\"language\\\", \\\"first_use_alt\\\", \\\"description\\\"]\\n):\\n    words_df = pd.read_csv(\\n        file, names=column_names, header=0, parse_dates=[\\\"timestamp\\\", \\\"first_use_alt\\\"]\\n    )\\n\\n    # Google changed how the form worked in the middle of my data collection, making it very hard to enter dates,\\n    # so I started using the timestamp as the entry time\\n    words_df[\\\"first_use\\\"] = np.where(\\n        words_df[\\\"first_use_alt\\\"].notnull(),\\n        words_df[\\\"first_use_alt\\\"],\\n        words_df[\\\"timestamp\\\"],\\n    )\\n\\n    # Then keep just the day, instead of the hour:minute:second, since we do not have that level of precision and it makes grouping harder\\n    words_df[\\\"first_use\\\"] = words_df[\\\"first_use\\\"].dt.date\\n\\n    # Sort by first use\\n    words_df = words_df.sort_values(\\\"first_use\\\")\\n\\n    # Lowercase all words\\n    words_df[\\\"word\\\"] = words_df[\\\"word\\\"].str.lower().str.strip()\\n\\n    # Remove paranthetical remarks\\n    words_df[\\\"word\\\"] = words_df[\\\"word\\\"].str.split(\\\"(\\\").str[0].str.strip()\\n\\n    # Save the first duplicate, remove the rest\\n    words_df = words_df.drop_duplicates(subset=[\\\"language\\\", \\\"word\\\"])\\n    words_df = words_df.reset_index(drop=True)\\n\\n    # Sort by first_use date and then cumulative count\\n    words_df = words_df.sort_values(\\\"first_use\\\")\\n    words_df[\\\"count\\\"] = words_df.groupby(\\\"language\\\").cumcount()\\n    # `.cumcount()` starts from 0, but we want the first word to be 1\\n    words_df[\\\"count\\\"] += 1\\n\\n    return words_df\";\n",
       "                var nbb_formatted_code = \"def load_data(\\n    file, column_names=[\\\"timestamp\\\", \\\"word\\\", \\\"language\\\", \\\"first_use_alt\\\", \\\"description\\\"]\\n):\\n    words_df = pd.read_csv(\\n        file, names=column_names, header=0, parse_dates=[\\\"timestamp\\\", \\\"first_use_alt\\\"]\\n    )\\n\\n    # Google changed how the form worked in the middle of my data collection, making it very hard to enter dates,\\n    # so I started using the timestamp as the entry time\\n    words_df[\\\"first_use\\\"] = np.where(\\n        words_df[\\\"first_use_alt\\\"].notnull(),\\n        words_df[\\\"first_use_alt\\\"],\\n        words_df[\\\"timestamp\\\"],\\n    )\\n\\n    # Then keep just the day, instead of the hour:minute:second, since we do not have that level of precision and it makes grouping harder\\n    words_df[\\\"first_use\\\"] = words_df[\\\"first_use\\\"].dt.date\\n\\n    # Sort by first use\\n    words_df = words_df.sort_values(\\\"first_use\\\")\\n\\n    # Lowercase all words\\n    words_df[\\\"word\\\"] = words_df[\\\"word\\\"].str.lower().str.strip()\\n\\n    # Remove paranthetical remarks\\n    words_df[\\\"word\\\"] = words_df[\\\"word\\\"].str.split(\\\"(\\\").str[0].str.strip()\\n\\n    # Save the first duplicate, remove the rest\\n    words_df = words_df.drop_duplicates(subset=[\\\"language\\\", \\\"word\\\"])\\n    words_df = words_df.reset_index(drop=True)\\n\\n    # Sort by first_use date and then cumulative count\\n    words_df = words_df.sort_values(\\\"first_use\\\")\\n    words_df[\\\"count\\\"] = words_df.groupby(\\\"language\\\").cumcount()\\n    # `.cumcount()` starts from 0, but we want the first word to be 1\\n    words_df[\\\"count\\\"] += 1\\n\\n    return words_df\";\n",
       "                var nbb_cells = Jupyter.notebook.get_cells();\n",
       "                for (var i = 0; i < nbb_cells.length; ++i) {\n",
       "                    if (nbb_cells[i].input_prompt_number == nbb_cell_id) {\n",
       "                        if (nbb_cells[i].get_text() == nbb_unformatted_code) {\n",
       "                             nbb_cells[i].set_text(nbb_formatted_code);\n",
       "                        }\n",
       "                        break;\n",
       "                    }\n",
       "                }\n",
       "            }, 500);\n",
       "            "
      ],
      "text/plain": [
       "<IPython.core.display.Javascript object>"
      ]
     },
     "metadata": {},
     "output_type": "display_data"
    }
   ],
   "source": [
    "def load_data(\n",
    "    file, column_names=[\"timestamp\", \"word\", \"language\", \"first_use_alt\", \"description\"]\n",
    "):\n",
    "    words_df = pd.read_csv(\n",
    "        file, names=column_names, header=0, parse_dates=[\"timestamp\", \"first_use_alt\"]\n",
    "    )\n",
    "\n",
    "    # Google changed how the form worked in the middle of my data collection, making it very hard to enter dates,\n",
    "    # so I started using the timestamp as the entry time\n",
    "    words_df[\"first_use\"] = np.where(\n",
    "        words_df[\"first_use_alt\"].notnull(),\n",
    "        words_df[\"first_use_alt\"],\n",
    "        words_df[\"timestamp\"],\n",
    "    )\n",
    "\n",
    "    # Then keep just the day, instead of the hour:minute:second, since we do not have that level of precision and it makes grouping harder\n",
    "    words_df[\"first_use\"] = words_df[\"first_use\"].dt.date\n",
    "\n",
    "    # Sort by first use\n",
    "    words_df = words_df.sort_values(\"first_use\")\n",
    "\n",
    "    # Lowercase all words\n",
    "    words_df[\"word\"] = words_df[\"word\"].str.lower().str.strip()\n",
    "\n",
    "    # Remove paranthetical remarks\n",
    "    words_df[\"word\"] = words_df[\"word\"].str.split(\"(\").str[0].str.strip()\n",
    "\n",
    "    # Save the first duplicate, remove the rest\n",
    "    words_df = words_df.drop_duplicates(subset=[\"language\", \"word\"])\n",
    "    words_df = words_df.reset_index(drop=True)\n",
    "\n",
    "    # Sort by first_use date and then cumulative count\n",
    "    words_df = words_df.sort_values(\"first_use\")\n",
    "    words_df[\"count\"] = words_df.groupby(\"language\").cumcount()\n",
    "    # `.cumcount()` starts from 0, but we want the first word to be 1\n",
    "    words_df[\"count\"] += 1\n",
    "\n",
    "    return words_df"
   ]
  },
  {
   "cell_type": "code",
   "execution_count": 6,
   "metadata": {},
   "outputs": [
    {
     "data": {
      "application/javascript": [
       "\n",
       "            setTimeout(function() {\n",
       "                var nbb_cell_id = 6;\n",
       "                var nbb_unformatted_code = \"def generate_language_day_count_df(words_df):\\n    # Select just the columns we need to plot\\n    language_day_count_df = words_df[[\\\"first_use\\\", \\\"count\\\", \\\"language\\\"]].reset_index(\\n        drop=True\\n    )\\n\\n    # Add a common start and end point\\n    before_first_day = pd.Timestamp(year=2018, month=12, day=1)\\n    min_day = words_df[\\\"first_use\\\"].min()\\n    max_day = words_df[\\\"first_use\\\"].max()\\n    for language in language_day_count_df[\\\"language\\\"].unique():\\n        is_correct_language = language_day_count_df[\\\"language\\\"] == language\\n        max_count = language_day_count_df[is_correct_language][\\\"count\\\"].max()\\n        new_df = pd.DataFrame(\\n            [(min_day, 0, language), (max_day, max_count, language)],\\n            columns=[\\\"first_use\\\", \\\"count\\\", \\\"language\\\"],\\n        )\\n        language_day_count_df = language_day_count_df.append(new_df)\\n\\n    return language_day_count_df.sort_values([\\\"first_use\\\", \\\"count\\\"]).reindex()\";\n",
       "                var nbb_formatted_code = \"def generate_language_day_count_df(words_df):\\n    # Select just the columns we need to plot\\n    language_day_count_df = words_df[[\\\"first_use\\\", \\\"count\\\", \\\"language\\\"]].reset_index(\\n        drop=True\\n    )\\n\\n    # Add a common start and end point\\n    before_first_day = pd.Timestamp(year=2018, month=12, day=1)\\n    min_day = words_df[\\\"first_use\\\"].min()\\n    max_day = words_df[\\\"first_use\\\"].max()\\n    for language in language_day_count_df[\\\"language\\\"].unique():\\n        is_correct_language = language_day_count_df[\\\"language\\\"] == language\\n        max_count = language_day_count_df[is_correct_language][\\\"count\\\"].max()\\n        new_df = pd.DataFrame(\\n            [(min_day, 0, language), (max_day, max_count, language)],\\n            columns=[\\\"first_use\\\", \\\"count\\\", \\\"language\\\"],\\n        )\\n        language_day_count_df = language_day_count_df.append(new_df)\\n\\n    return language_day_count_df.sort_values([\\\"first_use\\\", \\\"count\\\"]).reindex()\";\n",
       "                var nbb_cells = Jupyter.notebook.get_cells();\n",
       "                for (var i = 0; i < nbb_cells.length; ++i) {\n",
       "                    if (nbb_cells[i].input_prompt_number == nbb_cell_id) {\n",
       "                        if (nbb_cells[i].get_text() == nbb_unformatted_code) {\n",
       "                             nbb_cells[i].set_text(nbb_formatted_code);\n",
       "                        }\n",
       "                        break;\n",
       "                    }\n",
       "                }\n",
       "            }, 500);\n",
       "            "
      ],
      "text/plain": [
       "<IPython.core.display.Javascript object>"
      ]
     },
     "metadata": {},
     "output_type": "display_data"
    }
   ],
   "source": [
    "def generate_language_day_count_df(words_df):\n",
    "    # Select just the columns we need to plot\n",
    "    language_day_count_df = words_df[[\"first_use\", \"count\", \"language\"]].reset_index(\n",
    "        drop=True\n",
    "    )\n",
    "\n",
    "    # Add a common start and end point\n",
    "    before_first_day = pd.Timestamp(year=2018, month=12, day=1)\n",
    "    min_day = words_df[\"first_use\"].min()\n",
    "    max_day = words_df[\"first_use\"].max()\n",
    "    for language in language_day_count_df[\"language\"].unique():\n",
    "        is_correct_language = language_day_count_df[\"language\"] == language\n",
    "        max_count = language_day_count_df[is_correct_language][\"count\"].max()\n",
    "        new_df = pd.DataFrame(\n",
    "            [(min_day, 0, language), (max_day, max_count, language)],\n",
    "            columns=[\"first_use\", \"count\", \"language\"],\n",
    "        )\n",
    "        language_day_count_df = language_day_count_df.append(new_df)\n",
    "\n",
    "    return language_day_count_df.sort_values([\"first_use\", \"count\"]).reindex()"
   ]
  },
  {
   "cell_type": "code",
   "execution_count": 7,
   "metadata": {},
   "outputs": [
    {
     "data": {
      "application/javascript": [
       "\n",
       "            setTimeout(function() {\n",
       "                var nbb_cell_id = 7;\n",
       "                var nbb_unformatted_code = \"words_df = load_data(\\\"./cory_words.csv\\\")\\nlanguage_day_count_df = generate_language_day_count_df(words_df)\";\n",
       "                var nbb_formatted_code = \"words_df = load_data(\\\"./cory_words.csv\\\")\\nlanguage_day_count_df = generate_language_day_count_df(words_df)\";\n",
       "                var nbb_cells = Jupyter.notebook.get_cells();\n",
       "                for (var i = 0; i < nbb_cells.length; ++i) {\n",
       "                    if (nbb_cells[i].input_prompt_number == nbb_cell_id) {\n",
       "                        if (nbb_cells[i].get_text() == nbb_unformatted_code) {\n",
       "                             nbb_cells[i].set_text(nbb_formatted_code);\n",
       "                        }\n",
       "                        break;\n",
       "                    }\n",
       "                }\n",
       "            }, 500);\n",
       "            "
      ],
      "text/plain": [
       "<IPython.core.display.Javascript object>"
      ]
     },
     "metadata": {},
     "output_type": "display_data"
    }
   ],
   "source": [
    "words_df = load_data(\"./cory_words.csv\")\n",
    "language_day_count_df = generate_language_day_count_df(words_df)"
   ]
  },
  {
   "cell_type": "code",
   "execution_count": 8,
   "metadata": {},
   "outputs": [
    {
     "data": {
      "application/javascript": [
       "\n",
       "            setTimeout(function() {\n",
       "                var nbb_cell_id = 8;\n",
       "                var nbb_unformatted_code = \"theo_words_df = load_data(\\n    file=\\\"./theo_words.csv\\\",\\n    column_names=[\\\"timestamp\\\", \\\"word\\\", \\\"language\\\", \\\"first_use_alt\\\"],\\n)\\n\\n# Adjust Theo's dates as the if he were born on the same day as Cory\\nage_difference = CHILD1_BIRTH_DATE - CHILD0_BIRTH_DATE\\n\\nfor datecol in (\\\"first_use\\\", \\\"first_use_alt\\\"):\\n    theo_words_df[datecol] = theo_words_df[datecol] + age_difference\\n\\ntheo_language_day_count_df = generate_language_day_count_df(theo_words_df)\";\n",
       "                var nbb_formatted_code = \"theo_words_df = load_data(\\n    file=\\\"./theo_words.csv\\\",\\n    column_names=[\\\"timestamp\\\", \\\"word\\\", \\\"language\\\", \\\"first_use_alt\\\"],\\n)\\n\\n# Adjust Theo's dates as the if he were born on the same day as Cory\\nage_difference = CHILD1_BIRTH_DATE - CHILD0_BIRTH_DATE\\n\\nfor datecol in (\\\"first_use\\\", \\\"first_use_alt\\\"):\\n    theo_words_df[datecol] = theo_words_df[datecol] + age_difference\\n\\ntheo_language_day_count_df = generate_language_day_count_df(theo_words_df)\";\n",
       "                var nbb_cells = Jupyter.notebook.get_cells();\n",
       "                for (var i = 0; i < nbb_cells.length; ++i) {\n",
       "                    if (nbb_cells[i].input_prompt_number == nbb_cell_id) {\n",
       "                        if (nbb_cells[i].get_text() == nbb_unformatted_code) {\n",
       "                             nbb_cells[i].set_text(nbb_formatted_code);\n",
       "                        }\n",
       "                        break;\n",
       "                    }\n",
       "                }\n",
       "            }, 500);\n",
       "            "
      ],
      "text/plain": [
       "<IPython.core.display.Javascript object>"
      ]
     },
     "metadata": {},
     "output_type": "display_data"
    }
   ],
   "source": [
    "theo_words_df = load_data(\n",
    "    file=\"./theo_words.csv\",\n",
    "    column_names=[\"timestamp\", \"word\", \"language\", \"first_use_alt\"],\n",
    ")\n",
    "\n",
    "# Adjust Theo's dates as the if he were born on the same day as Cory\n",
    "age_difference = CHILD1_BIRTH_DATE - CHILD0_BIRTH_DATE\n",
    "\n",
    "for datecol in (\"first_use\", \"first_use_alt\"):\n",
    "    theo_words_df[datecol] = theo_words_df[datecol] + age_difference\n",
    "\n",
    "theo_language_day_count_df = generate_language_day_count_df(theo_words_df)"
   ]
  },
  {
   "cell_type": "markdown",
   "metadata": {},
   "source": [
    "# Plotting Functions"
   ]
  },
  {
   "cell_type": "code",
   "execution_count": 9,
   "metadata": {},
   "outputs": [
    {
     "data": {
      "application/javascript": [
       "\n",
       "            setTimeout(function() {\n",
       "                var nbb_cell_id = 9;\n",
       "                var nbb_unformatted_code = \"def word_coordinates(df, count_df, word, language):\\n    \\\"\\\"\\\"Return the timestamp of first useage, and the number of words known in\\n    the language at the time, for a given word.\\n    \\\"\\\"\\\"\\n    correct_langauge = df[\\\"language\\\"] == language\\n\\n    compare_word = word.lower()\\n    correct_word = df[\\\"word\\\"].str.contains(compare_word)\\n\\n    filtered = df[correct_langauge & correct_word]\\n    timestamp = filtered[\\\"first_use\\\"]\\n\\n    # Join on the timestamp\\n    merged = pd.merge(filtered, count_df, on=[\\\"first_use\\\", \\\"language\\\"])\\n\\n    return timestamp.values[0], merged[\\\"count_y\\\"].values[0]\";\n",
       "                var nbb_formatted_code = \"def word_coordinates(df, count_df, word, language):\\n    \\\"\\\"\\\"Return the timestamp of first useage, and the number of words known in\\n    the language at the time, for a given word.\\n    \\\"\\\"\\\"\\n    correct_langauge = df[\\\"language\\\"] == language\\n\\n    compare_word = word.lower()\\n    correct_word = df[\\\"word\\\"].str.contains(compare_word)\\n\\n    filtered = df[correct_langauge & correct_word]\\n    timestamp = filtered[\\\"first_use\\\"]\\n\\n    # Join on the timestamp\\n    merged = pd.merge(filtered, count_df, on=[\\\"first_use\\\", \\\"language\\\"])\\n\\n    return timestamp.values[0], merged[\\\"count_y\\\"].values[0]\";\n",
       "                var nbb_cells = Jupyter.notebook.get_cells();\n",
       "                for (var i = 0; i < nbb_cells.length; ++i) {\n",
       "                    if (nbb_cells[i].input_prompt_number == nbb_cell_id) {\n",
       "                        if (nbb_cells[i].get_text() == nbb_unformatted_code) {\n",
       "                             nbb_cells[i].set_text(nbb_formatted_code);\n",
       "                        }\n",
       "                        break;\n",
       "                    }\n",
       "                }\n",
       "            }, 500);\n",
       "            "
      ],
      "text/plain": [
       "<IPython.core.display.Javascript object>"
      ]
     },
     "metadata": {},
     "output_type": "display_data"
    }
   ],
   "source": [
    "def word_coordinates(df, count_df, word, language):\n",
    "    \"\"\"Return the timestamp of first useage, and the number of words known in\n",
    "    the language at the time, for a given word.\n",
    "    \"\"\"\n",
    "    correct_langauge = df[\"language\"] == language\n",
    "\n",
    "    compare_word = word.lower()\n",
    "    correct_word = df[\"word\"].str.contains(compare_word)\n",
    "\n",
    "    filtered = df[correct_langauge & correct_word]\n",
    "    timestamp = filtered[\"first_use\"]\n",
    "\n",
    "    # Join on the timestamp\n",
    "    merged = pd.merge(filtered, count_df, on=[\"first_use\", \"language\"])\n",
    "\n",
    "    return timestamp.values[0], merged[\"count_y\"].values[0]"
   ]
  },
  {
   "cell_type": "code",
   "execution_count": 10,
   "metadata": {},
   "outputs": [
    {
     "data": {
      "application/javascript": [
       "\n",
       "            setTimeout(function() {\n",
       "                var nbb_cell_id = 10;\n",
       "                var nbb_unformatted_code = \"def draw_legend(plt):\\n    \\\"\\\"\\\"Draw the legend on the specified plot.\\n\\n    Args:\\n        plt (matplotlib.pyplot): pyplot object\\n\\n    \\\"\\\"\\\"\\n    leg = plt.legend(\\n        loc=\\\"upper left\\\",\\n        fontsize=18,\\n        ncol=1,\\n        frameon=1,\\n        fancybox=True,\\n        # The bellow commands remove the lines in the legend\\n        handlelength=0,\\n        handletextpad=0,\\n        markerscale=0,\\n    )\\n\\n    # Turn on and theme the frame\\n    frame = leg.get_frame()\\n    frame.set_linewidth(1)\\n    frame.set_alpha(1)\\n    frame.set_facecolor(\\\"white\\\")\\n    frame.set_edgecolor(\\\"black\\\")\\n\\n    # Set the legend text color to match the line color\\n    handles, _ = ax.get_legend_handles_labels()\\n    texts = leg.get_texts()\\n    for _, text in zip(handles, texts):\\n        text.set_color(LANGUAGE_COLORS[text.get_text()])\\n\\n    fig.tight_layout()\";\n",
       "                var nbb_formatted_code = \"def draw_legend(plt):\\n    \\\"\\\"\\\"Draw the legend on the specified plot.\\n\\n    Args:\\n        plt (matplotlib.pyplot): pyplot object\\n\\n    \\\"\\\"\\\"\\n    leg = plt.legend(\\n        loc=\\\"upper left\\\",\\n        fontsize=18,\\n        ncol=1,\\n        frameon=1,\\n        fancybox=True,\\n        # The bellow commands remove the lines in the legend\\n        handlelength=0,\\n        handletextpad=0,\\n        markerscale=0,\\n    )\\n\\n    # Turn on and theme the frame\\n    frame = leg.get_frame()\\n    frame.set_linewidth(1)\\n    frame.set_alpha(1)\\n    frame.set_facecolor(\\\"white\\\")\\n    frame.set_edgecolor(\\\"black\\\")\\n\\n    # Set the legend text color to match the line color\\n    handles, _ = ax.get_legend_handles_labels()\\n    texts = leg.get_texts()\\n    for _, text in zip(handles, texts):\\n        text.set_color(LANGUAGE_COLORS[text.get_text()])\\n\\n    fig.tight_layout()\";\n",
       "                var nbb_cells = Jupyter.notebook.get_cells();\n",
       "                for (var i = 0; i < nbb_cells.length; ++i) {\n",
       "                    if (nbb_cells[i].input_prompt_number == nbb_cell_id) {\n",
       "                        if (nbb_cells[i].get_text() == nbb_unformatted_code) {\n",
       "                             nbb_cells[i].set_text(nbb_formatted_code);\n",
       "                        }\n",
       "                        break;\n",
       "                    }\n",
       "                }\n",
       "            }, 500);\n",
       "            "
      ],
      "text/plain": [
       "<IPython.core.display.Javascript object>"
      ]
     },
     "metadata": {},
     "output_type": "display_data"
    }
   ],
   "source": [
    "def draw_legend(plt):\n",
    "    \"\"\"Draw the legend on the specified plot.\n",
    "\n",
    "    Args:\n",
    "        plt (matplotlib.pyplot): pyplot object\n",
    "\n",
    "    \"\"\"\n",
    "    leg = plt.legend(\n",
    "        loc=\"upper left\",\n",
    "        fontsize=18,\n",
    "        ncol=1,\n",
    "        frameon=1,\n",
    "        fancybox=True,\n",
    "        # The bellow commands remove the lines in the legend\n",
    "        handlelength=0,\n",
    "        handletextpad=0,\n",
    "        markerscale=0,\n",
    "    )\n",
    "\n",
    "    # Turn on and theme the frame\n",
    "    frame = leg.get_frame()\n",
    "    frame.set_linewidth(1)\n",
    "    frame.set_alpha(1)\n",
    "    frame.set_facecolor(\"white\")\n",
    "    frame.set_edgecolor(\"black\")\n",
    "\n",
    "    # Set the legend text color to match the line color\n",
    "    handles, _ = ax.get_legend_handles_labels()\n",
    "    texts = leg.get_texts()\n",
    "    for _, text in zip(handles, texts):\n",
    "        text.set_color(LANGUAGE_COLORS[text.get_text()])\n",
    "\n",
    "    fig.tight_layout()"
   ]
  },
  {
   "cell_type": "code",
   "execution_count": 11,
   "metadata": {},
   "outputs": [
    {
     "data": {
      "application/javascript": [
       "\n",
       "            setTimeout(function() {\n",
       "                var nbb_cell_id = 11;\n",
       "                var nbb_unformatted_code = \"def age_to_timestamp(age):\\n    \\\"\\\"\\\"Returns a Timestamp for when Theo turned a specific age in months.\\n    \\\"\\\"\\\"\\n    born = CHILD1_BIRTH_DATE\\n    current = born + relativedelta(months=age)\\n\\n    return current\";\n",
       "                var nbb_formatted_code = \"def age_to_timestamp(age):\\n    \\\"\\\"\\\"Returns a Timestamp for when Theo turned a specific age in months.\\n    \\\"\\\"\\\"\\n    born = CHILD1_BIRTH_DATE\\n    current = born + relativedelta(months=age)\\n\\n    return current\";\n",
       "                var nbb_cells = Jupyter.notebook.get_cells();\n",
       "                for (var i = 0; i < nbb_cells.length; ++i) {\n",
       "                    if (nbb_cells[i].input_prompt_number == nbb_cell_id) {\n",
       "                        if (nbb_cells[i].get_text() == nbb_unformatted_code) {\n",
       "                             nbb_cells[i].set_text(nbb_formatted_code);\n",
       "                        }\n",
       "                        break;\n",
       "                    }\n",
       "                }\n",
       "            }, 500);\n",
       "            "
      ],
      "text/plain": [
       "<IPython.core.display.Javascript object>"
      ]
     },
     "metadata": {},
     "output_type": "display_data"
    }
   ],
   "source": [
    "def age_to_timestamp(age):\n",
    "    \"\"\"Returns a Timestamp for when Theo turned a specific age in months.\n",
    "    \"\"\"\n",
    "    born = CHILD1_BIRTH_DATE\n",
    "    current = born + relativedelta(months=age)\n",
    "\n",
    "    return current"
   ]
  },
  {
   "cell_type": "code",
   "execution_count": 12,
   "metadata": {},
   "outputs": [
    {
     "data": {
      "application/javascript": [
       "\n",
       "            setTimeout(function() {\n",
       "                var nbb_cell_id = 12;\n",
       "                var nbb_unformatted_code = \"def timestamp_to_age(timestamp):\\n    delta = timestamp - CHILD1_BIRTH_DATE\\n    return delta.days\";\n",
       "                var nbb_formatted_code = \"def timestamp_to_age(timestamp):\\n    delta = timestamp - CHILD1_BIRTH_DATE\\n    return delta.days\";\n",
       "                var nbb_cells = Jupyter.notebook.get_cells();\n",
       "                for (var i = 0; i < nbb_cells.length; ++i) {\n",
       "                    if (nbb_cells[i].input_prompt_number == nbb_cell_id) {\n",
       "                        if (nbb_cells[i].get_text() == nbb_unformatted_code) {\n",
       "                             nbb_cells[i].set_text(nbb_formatted_code);\n",
       "                        }\n",
       "                        break;\n",
       "                    }\n",
       "                }\n",
       "            }, 500);\n",
       "            "
      ],
      "text/plain": [
       "<IPython.core.display.Javascript object>"
      ]
     },
     "metadata": {},
     "output_type": "display_data"
    }
   ],
   "source": [
    "def timestamp_to_age(timestamp):\n",
    "    delta = timestamp - CHILD1_BIRTH_DATE\n",
    "    return delta.days"
   ]
  },
  {
   "cell_type": "code",
   "execution_count": 13,
   "metadata": {},
   "outputs": [
    {
     "data": {
      "application/javascript": [
       "\n",
       "            setTimeout(function() {\n",
       "                var nbb_cell_id = 13;\n",
       "                var nbb_unformatted_code = \"def draw_age_tick_labels(ax, first=11, until=36):\\n    \\\"\\\"\\\"\\n    \\\"\\\"\\\"\\n    # Set the major ticks as dates\\n    ages = list(range(first, until))\\n    major_ticks = np.array([age_to_timestamp(age) for age in ages])\\n    ax.set_xticks(major_ticks)\\n\\n    # Read back the x-values of the major ticks\\n    major_ticks_values = np.array(ax.get_xticks())\\n\\n    # Put the minor ticks halfway between the majors\\n    half = (major_ticks_values[1] - major_ticks_values[0]) / 2\\n    minor_ticks = major_ticks_values + half\\n    ax.set_xticks(minor_ticks, minor=True)\\n\\n    # Create the text of the labels\\n    tick_labels = [str(age) for age in ages]\\n    # If we go up to a year, replace the months with year\\n    for month_count, year_str in ((12, \\\"1 Year\\\"), (24, \\\"2 Years\\\")):\\n        try:\\n            i = ages.index(month_count)\\n            tick_labels[i] = year_str\\n        except ValueError:\\n            continue\\n\\n    # Disable major tick labels\\n    ax.set_xticklabels([], minor=False)\\n    # Set minor tick labels\\n    ax.set_xticklabels(tick_labels, minor=True)\";\n",
       "                var nbb_formatted_code = \"def draw_age_tick_labels(ax, first=11, until=36):\\n    \\\"\\\"\\\"\\n    \\\"\\\"\\\"\\n    # Set the major ticks as dates\\n    ages = list(range(first, until))\\n    major_ticks = np.array([age_to_timestamp(age) for age in ages])\\n    ax.set_xticks(major_ticks)\\n\\n    # Read back the x-values of the major ticks\\n    major_ticks_values = np.array(ax.get_xticks())\\n\\n    # Put the minor ticks halfway between the majors\\n    half = (major_ticks_values[1] - major_ticks_values[0]) / 2\\n    minor_ticks = major_ticks_values + half\\n    ax.set_xticks(minor_ticks, minor=True)\\n\\n    # Create the text of the labels\\n    tick_labels = [str(age) for age in ages]\\n    # If we go up to a year, replace the months with year\\n    for month_count, year_str in ((12, \\\"1 Year\\\"), (24, \\\"2 Years\\\")):\\n        try:\\n            i = ages.index(month_count)\\n            tick_labels[i] = year_str\\n        except ValueError:\\n            continue\\n\\n    # Disable major tick labels\\n    ax.set_xticklabels([], minor=False)\\n    # Set minor tick labels\\n    ax.set_xticklabels(tick_labels, minor=True)\";\n",
       "                var nbb_cells = Jupyter.notebook.get_cells();\n",
       "                for (var i = 0; i < nbb_cells.length; ++i) {\n",
       "                    if (nbb_cells[i].input_prompt_number == nbb_cell_id) {\n",
       "                        if (nbb_cells[i].get_text() == nbb_unformatted_code) {\n",
       "                             nbb_cells[i].set_text(nbb_formatted_code);\n",
       "                        }\n",
       "                        break;\n",
       "                    }\n",
       "                }\n",
       "            }, 500);\n",
       "            "
      ],
      "text/plain": [
       "<IPython.core.display.Javascript object>"
      ]
     },
     "metadata": {},
     "output_type": "display_data"
    }
   ],
   "source": [
    "def draw_age_tick_labels(ax, first=11, until=36):\n",
    "    \"\"\"\n",
    "    \"\"\"\n",
    "    # Set the major ticks as dates\n",
    "    ages = list(range(first, until))\n",
    "    major_ticks = np.array([age_to_timestamp(age) for age in ages])\n",
    "    ax.set_xticks(major_ticks)\n",
    "\n",
    "    # Read back the x-values of the major ticks\n",
    "    major_ticks_values = np.array(ax.get_xticks())\n",
    "\n",
    "    # Put the minor ticks halfway between the majors\n",
    "    half = (major_ticks_values[1] - major_ticks_values[0]) / 2\n",
    "    minor_ticks = major_ticks_values + half\n",
    "    ax.set_xticks(minor_ticks, minor=True)\n",
    "\n",
    "    # Create the text of the labels\n",
    "    tick_labels = [str(age) for age in ages]\n",
    "    # If we go up to a year, replace the months with year\n",
    "    for month_count, year_str in ((12, \"1 Year\"), (24, \"2 Years\")):\n",
    "        try:\n",
    "            i = ages.index(month_count)\n",
    "            tick_labels[i] = year_str\n",
    "        except ValueError:\n",
    "            continue\n",
    "\n",
    "    # Disable major tick labels\n",
    "    ax.set_xticklabels([], minor=False)\n",
    "    # Set minor tick labels\n",
    "    ax.set_xticklabels(tick_labels, minor=True)"
   ]
  },
  {
   "cell_type": "code",
   "execution_count": 14,
   "metadata": {},
   "outputs": [
    {
     "data": {
      "application/javascript": [
       "\n",
       "            setTimeout(function() {\n",
       "                var nbb_cell_id = 14;\n",
       "                var nbb_unformatted_code = \"def annotate_word(df, count_df, ax, word, language, xytext, alt_word, arrowstyle=\\\"->\\\"):\\n    \\\"\\\"\\\" Draw an annotation on the Day of Year plot. \\\"\\\"\\\"\\n    # Get the x and y coordinates for the word\\n    x_pos, y_pos = word_coordinates(df, count_df, word, language)\\n\\n    # Draw a circle at that point\\n    point_color = LANGUAGE_COLORS[language]\\n    plt.scatter(\\n        [x_pos],\\n        [y_pos],\\n        s=80,\\n        facecolors=point_color,\\n        edgecolors=point_color,\\n        linewidth=2,\\n        label=\\\"_nolegend_\\\",\\n        zorder=2,\\n    )\\n\\n    # Add an arrow and text annotating it\\n    if alt_word is not None:\\n        word = alt_word\\n\\n    ax.annotate(\\n        word,\\n        (x_pos, y_pos),\\n        xytext=xytext,\\n        textcoords=\\\"offset points\\\",\\n        arrowprops=dict(\\n            arrowstyle=arrowstyle, connectionstyle=\\\"arc3\\\", color=\\\"black\\\", linewidth=1.5\\n        ),\\n        size=16,\\n        color=point_color,\\n        zorder=3,\\n    )\";\n",
       "                var nbb_formatted_code = \"def annotate_word(df, count_df, ax, word, language, xytext, alt_word, arrowstyle=\\\"->\\\"):\\n    \\\"\\\"\\\" Draw an annotation on the Day of Year plot. \\\"\\\"\\\"\\n    # Get the x and y coordinates for the word\\n    x_pos, y_pos = word_coordinates(df, count_df, word, language)\\n\\n    # Draw a circle at that point\\n    point_color = LANGUAGE_COLORS[language]\\n    plt.scatter(\\n        [x_pos],\\n        [y_pos],\\n        s=80,\\n        facecolors=point_color,\\n        edgecolors=point_color,\\n        linewidth=2,\\n        label=\\\"_nolegend_\\\",\\n        zorder=2,\\n    )\\n\\n    # Add an arrow and text annotating it\\n    if alt_word is not None:\\n        word = alt_word\\n\\n    ax.annotate(\\n        word,\\n        (x_pos, y_pos),\\n        xytext=xytext,\\n        textcoords=\\\"offset points\\\",\\n        arrowprops=dict(\\n            arrowstyle=arrowstyle, connectionstyle=\\\"arc3\\\", color=\\\"black\\\", linewidth=1.5\\n        ),\\n        size=16,\\n        color=point_color,\\n        zorder=3,\\n    )\";\n",
       "                var nbb_cells = Jupyter.notebook.get_cells();\n",
       "                for (var i = 0; i < nbb_cells.length; ++i) {\n",
       "                    if (nbb_cells[i].input_prompt_number == nbb_cell_id) {\n",
       "                        if (nbb_cells[i].get_text() == nbb_unformatted_code) {\n",
       "                             nbb_cells[i].set_text(nbb_formatted_code);\n",
       "                        }\n",
       "                        break;\n",
       "                    }\n",
       "                }\n",
       "            }, 500);\n",
       "            "
      ],
      "text/plain": [
       "<IPython.core.display.Javascript object>"
      ]
     },
     "metadata": {},
     "output_type": "display_data"
    }
   ],
   "source": [
    "def annotate_word(df, count_df, ax, word, language, xytext, alt_word, arrowstyle=\"->\"):\n",
    "    \"\"\" Draw an annotation on the Day of Year plot. \"\"\"\n",
    "    # Get the x and y coordinates for the word\n",
    "    x_pos, y_pos = word_coordinates(df, count_df, word, language)\n",
    "\n",
    "    # Draw a circle at that point\n",
    "    point_color = LANGUAGE_COLORS[language]\n",
    "    plt.scatter(\n",
    "        [x_pos],\n",
    "        [y_pos],\n",
    "        s=80,\n",
    "        facecolors=point_color,\n",
    "        edgecolors=point_color,\n",
    "        linewidth=2,\n",
    "        label=\"_nolegend_\",\n",
    "        zorder=2,\n",
    "    )\n",
    "\n",
    "    # Add an arrow and text annotating it\n",
    "    if alt_word is not None:\n",
    "        word = alt_word\n",
    "\n",
    "    ax.annotate(\n",
    "        word,\n",
    "        (x_pos, y_pos),\n",
    "        xytext=xytext,\n",
    "        textcoords=\"offset points\",\n",
    "        arrowprops=dict(\n",
    "            arrowstyle=arrowstyle, connectionstyle=\"arc3\", color=\"black\", linewidth=1.5\n",
    "        ),\n",
    "        size=16,\n",
    "        color=point_color,\n",
    "        zorder=3,\n",
    "    )"
   ]
  },
  {
   "cell_type": "code",
   "execution_count": 15,
   "metadata": {},
   "outputs": [
    {
     "data": {
      "application/javascript": [
       "\n",
       "            setTimeout(function() {\n",
       "                var nbb_cell_id = 15;\n",
       "                var nbb_unformatted_code = \"def draw_bands(ax):\\n    \\\"\\\"\\\"Add grey bands to the plot with a sepcified width.\\n\\n    Args:\\n        ax: a matplotlib axes object\\n        \\n    \\\"\\\"\\\"\\n    ticks = ax.get_xticks(minor=False)\\n    band_width = ticks[1] - ticks[0]\\n\\n    for i in range(0, len(ticks), 2):\\n        try:\\n            left_tick = ticks[i]\\n            right_tick = ticks[i + 1]\\n        except:\\n            break\\n        else:\\n            ax.axvspan(left_tick, right_tick, color=\\\"0.97\\\", zorder=-2)\\n\\n    # Have to add an extra band if odd ticks\\n    x_lims = ax.get_xlim()\\n    if len(ticks) % 2:\\n        last_tick = ticks[-1]\\n        ax.axvspan(last_tick, last_tick + band_width, color=\\\"0.97\\\", zorder=-2)\\n\\n    ax.set_xlim(x_lims)\";\n",
       "                var nbb_formatted_code = \"def draw_bands(ax):\\n    \\\"\\\"\\\"Add grey bands to the plot with a sepcified width.\\n\\n    Args:\\n        ax: a matplotlib axes object\\n        \\n    \\\"\\\"\\\"\\n    ticks = ax.get_xticks(minor=False)\\n    band_width = ticks[1] - ticks[0]\\n\\n    for i in range(0, len(ticks), 2):\\n        try:\\n            left_tick = ticks[i]\\n            right_tick = ticks[i + 1]\\n        except:\\n            break\\n        else:\\n            ax.axvspan(left_tick, right_tick, color=\\\"0.97\\\", zorder=-2)\\n\\n    # Have to add an extra band if odd ticks\\n    x_lims = ax.get_xlim()\\n    if len(ticks) % 2:\\n        last_tick = ticks[-1]\\n        ax.axvspan(last_tick, last_tick + band_width, color=\\\"0.97\\\", zorder=-2)\\n\\n    ax.set_xlim(x_lims)\";\n",
       "                var nbb_cells = Jupyter.notebook.get_cells();\n",
       "                for (var i = 0; i < nbb_cells.length; ++i) {\n",
       "                    if (nbb_cells[i].input_prompt_number == nbb_cell_id) {\n",
       "                        if (nbb_cells[i].get_text() == nbb_unformatted_code) {\n",
       "                             nbb_cells[i].set_text(nbb_formatted_code);\n",
       "                        }\n",
       "                        break;\n",
       "                    }\n",
       "                }\n",
       "            }, 500);\n",
       "            "
      ],
      "text/plain": [
       "<IPython.core.display.Javascript object>"
      ]
     },
     "metadata": {},
     "output_type": "display_data"
    }
   ],
   "source": [
    "def draw_bands(ax):\n",
    "    \"\"\"Add grey bands to the plot with a sepcified width.\n",
    "\n",
    "    Args:\n",
    "        ax: a matplotlib axes object\n",
    "        \n",
    "    \"\"\"\n",
    "    ticks = ax.get_xticks(minor=False)\n",
    "    band_width = ticks[1] - ticks[0]\n",
    "\n",
    "    for i in range(0, len(ticks), 2):\n",
    "        try:\n",
    "            left_tick = ticks[i]\n",
    "            right_tick = ticks[i + 1]\n",
    "        except:\n",
    "            break\n",
    "        else:\n",
    "            ax.axvspan(left_tick, right_tick, color=\"0.97\", zorder=-2)\n",
    "\n",
    "    # Have to add an extra band if odd ticks\n",
    "    x_lims = ax.get_xlim()\n",
    "    if len(ticks) % 2:\n",
    "        last_tick = ticks[-1]\n",
    "        ax.axvspan(last_tick, last_tick + band_width, color=\"0.97\", zorder=-2)\n",
    "\n",
    "    ax.set_xlim(x_lims)"
   ]
  },
  {
   "cell_type": "code",
   "execution_count": 16,
   "metadata": {},
   "outputs": [
    {
     "data": {
      "application/javascript": [
       "\n",
       "            setTimeout(function() {\n",
       "                var nbb_cell_id = 16;\n",
       "                var nbb_unformatted_code = \"def draw_steps(ax, ldc_df, language, linewidth=2.5, alpha=1, linestyle=\\\"-\\\", zorder=1):\\n    tmp_df = ldc_df[ldc_df[\\\"language\\\"] == language]\\n\\n    ax.step(\\n        x=tmp_df[\\\"first_use\\\"].values,\\n        y=tmp_df[\\\"count\\\"].values,\\n        color=LANGUAGE_COLORS[language],\\n        linewidth=linewidth,\\n        label=language,\\n        zorder=zorder,\\n        alpha=alpha,\\n        where=\\\"post\\\",\\n        linestyle=linestyle,\\n    )\";\n",
       "                var nbb_formatted_code = \"def draw_steps(ax, ldc_df, language, linewidth=2.5, alpha=1, linestyle=\\\"-\\\", zorder=1):\\n    tmp_df = ldc_df[ldc_df[\\\"language\\\"] == language]\\n\\n    ax.step(\\n        x=tmp_df[\\\"first_use\\\"].values,\\n        y=tmp_df[\\\"count\\\"].values,\\n        color=LANGUAGE_COLORS[language],\\n        linewidth=linewidth,\\n        label=language,\\n        zorder=zorder,\\n        alpha=alpha,\\n        where=\\\"post\\\",\\n        linestyle=linestyle,\\n    )\";\n",
       "                var nbb_cells = Jupyter.notebook.get_cells();\n",
       "                for (var i = 0; i < nbb_cells.length; ++i) {\n",
       "                    if (nbb_cells[i].input_prompt_number == nbb_cell_id) {\n",
       "                        if (nbb_cells[i].get_text() == nbb_unformatted_code) {\n",
       "                             nbb_cells[i].set_text(nbb_formatted_code);\n",
       "                        }\n",
       "                        break;\n",
       "                    }\n",
       "                }\n",
       "            }, 500);\n",
       "            "
      ],
      "text/plain": [
       "<IPython.core.display.Javascript object>"
      ]
     },
     "metadata": {},
     "output_type": "display_data"
    }
   ],
   "source": [
    "def draw_steps(ax, ldc_df, language, linewidth=2.5, alpha=1, linestyle=\"-\", zorder=1):\n",
    "    tmp_df = ldc_df[ldc_df[\"language\"] == language]\n",
    "\n",
    "    ax.step(\n",
    "        x=tmp_df[\"first_use\"].values,\n",
    "        y=tmp_df[\"count\"].values,\n",
    "        color=LANGUAGE_COLORS[language],\n",
    "        linewidth=linewidth,\n",
    "        label=language,\n",
    "        zorder=zorder,\n",
    "        alpha=alpha,\n",
    "        where=\"post\",\n",
    "        linestyle=linestyle,\n",
    "    )"
   ]
  },
  {
   "cell_type": "markdown",
   "metadata": {},
   "source": [
    "## Make Words in Time Plot"
   ]
  },
  {
   "cell_type": "code",
   "execution_count": 17,
   "metadata": {},
   "outputs": [
    {
     "data": {
      "application/javascript": [
       "\n",
       "            setTimeout(function() {\n",
       "                var nbb_cell_id = 17;\n",
       "                var nbb_unformatted_code = \"def make_compare_plot(\\n    ax,\\n    main_words_df,\\n    main_language_day_count_df,\\n    second_words_df,\\n    second_language_day_count_df,\\n    legend_loc,\\n):\\n    first_son_linestyle = \\\"-\\\"\\n    second_son_linestyle = \\\"--\\\"\\n    background_alpha = 0.14\\n    background_linewidth = 1.8\\n    for i, language in enumerate(legend_loc.keys()):\\n        color = LANGUAGE_COLORS[language]\\n        linewidth = 2.5\\n        alpha = 1.0\\n\\n        # Draw primary lines\\n        draw_steps(ax[i], language_day_count_df, language)\\n        draw_steps(\\n            ax[i],\\n            second_language_day_count_df,\\n            language,\\n            linestyle=second_son_linestyle,\\n        )\\n\\n        # Draw language legendend\\n        x_loc, y_loc = legend_loc[language]\\n        ax[i].text(\\n            x_loc,\\n            y_loc,\\n            language,\\n            color=color,\\n            fontsize=20,\\n            transform=ax[i].transAxes,\\n            horizontalalignment=\\\"left\\\",\\n            verticalalignment=\\\"center\\\",\\n        )\\n\\n    # Set titles\\n    ax[2].set_ylabel(\\\"Words Spoken\\\", fontsize=AXIS_TITLE_SIZE)\\n    ax[-1].set_xlabel(\\\"Age (Months)\\\", fontsize=AXIS_TITLE_SIZE)\\n\\n    # Custom Legend\\n    custom_lines = [\\n        Line2D([0], [0], color=\\\"Black\\\", lw=linewidth, linestyle=first_son_linestyle),\\n        Line2D([0], [0], color=\\\"Black\\\", lw=linewidth, linestyle=second_son_linestyle),\\n    ]\\n\\n    ax[0].legend(\\n        custom_lines,\\n        [\\\"Cornelius\\\", \\\"Theodore\\\"],\\n        fontsize=20,\\n        frameon=True,\\n        loc=\\\"upper left\\\",\\n    )\\n\\n    # Plot the gird and grey month bands\\n    # We need to set the age bands for the tick labels using the maximum of the data\\n    age_in_months = ceil(\\n        timestamp_to_age(second_language_day_count_df[\\\"first_use\\\"].max()) / 30\\n    )\\n    plt.minorticks_on()\\n    for a in ax:\\n        draw_age_tick_labels(a, until=age_in_months)\\n        a.tick_params(axis=\\\"y\\\", which=\\\"major\\\", labelsize=15)\\n        a.tick_params(axis=\\\"x\\\", which=\\\"minor\\\", labelsize=15)\\n        a.grid(True)\\n        draw_bands(a)\";\n",
       "                var nbb_formatted_code = \"def make_compare_plot(\\n    ax,\\n    main_words_df,\\n    main_language_day_count_df,\\n    second_words_df,\\n    second_language_day_count_df,\\n    legend_loc,\\n):\\n    first_son_linestyle = \\\"-\\\"\\n    second_son_linestyle = \\\"--\\\"\\n    background_alpha = 0.14\\n    background_linewidth = 1.8\\n    for i, language in enumerate(legend_loc.keys()):\\n        color = LANGUAGE_COLORS[language]\\n        linewidth = 2.5\\n        alpha = 1.0\\n\\n        # Draw primary lines\\n        draw_steps(ax[i], language_day_count_df, language)\\n        draw_steps(\\n            ax[i],\\n            second_language_day_count_df,\\n            language,\\n            linestyle=second_son_linestyle,\\n        )\\n\\n        # Draw language legendend\\n        x_loc, y_loc = legend_loc[language]\\n        ax[i].text(\\n            x_loc,\\n            y_loc,\\n            language,\\n            color=color,\\n            fontsize=20,\\n            transform=ax[i].transAxes,\\n            horizontalalignment=\\\"left\\\",\\n            verticalalignment=\\\"center\\\",\\n        )\\n\\n    # Set titles\\n    ax[2].set_ylabel(\\\"Words Spoken\\\", fontsize=AXIS_TITLE_SIZE)\\n    ax[-1].set_xlabel(\\\"Age (Months)\\\", fontsize=AXIS_TITLE_SIZE)\\n\\n    # Custom Legend\\n    custom_lines = [\\n        Line2D([0], [0], color=\\\"Black\\\", lw=linewidth, linestyle=first_son_linestyle),\\n        Line2D([0], [0], color=\\\"Black\\\", lw=linewidth, linestyle=second_son_linestyle),\\n    ]\\n\\n    ax[0].legend(\\n        custom_lines,\\n        [\\\"Cornelius\\\", \\\"Theodore\\\"],\\n        fontsize=20,\\n        frameon=True,\\n        loc=\\\"upper left\\\",\\n    )\\n\\n    # Plot the gird and grey month bands\\n    # We need to set the age bands for the tick labels using the maximum of the data\\n    age_in_months = ceil(\\n        timestamp_to_age(second_language_day_count_df[\\\"first_use\\\"].max()) / 30\\n    )\\n    plt.minorticks_on()\\n    for a in ax:\\n        draw_age_tick_labels(a, until=age_in_months)\\n        a.tick_params(axis=\\\"y\\\", which=\\\"major\\\", labelsize=15)\\n        a.tick_params(axis=\\\"x\\\", which=\\\"minor\\\", labelsize=15)\\n        a.grid(True)\\n        draw_bands(a)\";\n",
       "                var nbb_cells = Jupyter.notebook.get_cells();\n",
       "                for (var i = 0; i < nbb_cells.length; ++i) {\n",
       "                    if (nbb_cells[i].input_prompt_number == nbb_cell_id) {\n",
       "                        if (nbb_cells[i].get_text() == nbb_unformatted_code) {\n",
       "                             nbb_cells[i].set_text(nbb_formatted_code);\n",
       "                        }\n",
       "                        break;\n",
       "                    }\n",
       "                }\n",
       "            }, 500);\n",
       "            "
      ],
      "text/plain": [
       "<IPython.core.display.Javascript object>"
      ]
     },
     "metadata": {},
     "output_type": "display_data"
    }
   ],
   "source": [
    "def make_compare_plot(\n",
    "    ax,\n",
    "    main_words_df,\n",
    "    main_language_day_count_df,\n",
    "    second_words_df,\n",
    "    second_language_day_count_df,\n",
    "    legend_loc,\n",
    "):\n",
    "    first_son_linestyle = \"-\"\n",
    "    second_son_linestyle = \"--\"\n",
    "    background_alpha = 0.14\n",
    "    background_linewidth = 1.8\n",
    "    for i, language in enumerate(legend_loc.keys()):\n",
    "        color = LANGUAGE_COLORS[language]\n",
    "        linewidth = 2.5\n",
    "        alpha = 1.0\n",
    "\n",
    "        # Draw primary lines\n",
    "        draw_steps(ax[i], language_day_count_df, language)\n",
    "        draw_steps(\n",
    "            ax[i],\n",
    "            second_language_day_count_df,\n",
    "            language,\n",
    "            linestyle=second_son_linestyle,\n",
    "        )\n",
    "\n",
    "        # Draw language legendend\n",
    "        x_loc, y_loc = legend_loc[language]\n",
    "        ax[i].text(\n",
    "            x_loc,\n",
    "            y_loc,\n",
    "            language,\n",
    "            color=color,\n",
    "            fontsize=20,\n",
    "            transform=ax[i].transAxes,\n",
    "            horizontalalignment=\"left\",\n",
    "            verticalalignment=\"center\",\n",
    "        )\n",
    "\n",
    "    # Set titles\n",
    "    ax[2].set_ylabel(\"Words Spoken\", fontsize=AXIS_TITLE_SIZE)\n",
    "    ax[-1].set_xlabel(\"Age (Months)\", fontsize=AXIS_TITLE_SIZE)\n",
    "\n",
    "    # Custom Legend\n",
    "    custom_lines = [\n",
    "        Line2D([0], [0], color=\"Black\", lw=linewidth, linestyle=first_son_linestyle),\n",
    "        Line2D([0], [0], color=\"Black\", lw=linewidth, linestyle=second_son_linestyle),\n",
    "    ]\n",
    "\n",
    "    ax[0].legend(\n",
    "        custom_lines,\n",
    "        [\"Cornelius\", \"Theodore\"],\n",
    "        fontsize=20,\n",
    "        frameon=True,\n",
    "        loc=\"upper left\",\n",
    "    )\n",
    "\n",
    "    # Plot the gird and grey month bands\n",
    "    # We need to set the age bands for the tick labels using the maximum of the data\n",
    "    age_in_months = ceil(\n",
    "        timestamp_to_age(second_language_day_count_df[\"first_use\"].max()) / 30\n",
    "    )\n",
    "    plt.minorticks_on()\n",
    "    for a in ax:\n",
    "        draw_age_tick_labels(a, until=age_in_months)\n",
    "        a.tick_params(axis=\"y\", which=\"major\", labelsize=15)\n",
    "        a.tick_params(axis=\"x\", which=\"minor\", labelsize=15)\n",
    "        a.grid(True)\n",
    "        draw_bands(a)"
   ]
  },
  {
   "cell_type": "code",
   "execution_count": 18,
   "metadata": {
    "scrolled": false
   },
   "outputs": [
    {
     "data": {
      "image/png": "[encoded data removed]",
      "text/plain": [
       "<Figure size 1008x1008 with 5 Axes>"
      ]
     },
     "metadata": {
      "needs_background": "light"
     },
     "output_type": "display_data"
    },
    {
     "data": {
      "application/javascript": [
       "\n",
       "            setTimeout(function() {\n",
       "                var nbb_cell_id = 18;\n",
       "                var nbb_unformatted_code = \"languages = (\\\"Chinese\\\", \\\"English\\\", \\\"Spanish\\\", \\\"Sign\\\", \\\"Animal Sound\\\")\\n\\nfig, ax = plt.subplots(len(languages), 1, figsize=(WIDTH + 2, WIDTH + 2), sharex=True)\\nfig.subplots_adjust(hspace=0)\\n\\nmake_compare_plot(\\n    ax,\\n    words_df,\\n    language_day_count_df,\\n    theo_words_df,\\n    theo_language_day_count_df,\\n    {\\n        \\\"Chinese\\\": (0.73, 0.78),\\n        \\\"English\\\": (0.73, 0.89),\\n        \\\"Spanish\\\": (0.73, 0.89),\\n        \\\"Sign\\\": (0.73, 0.72),\\n        \\\"Animal Sound\\\": (0.73, 0.89),\\n    },\\n)\\n\\nfig.text(\\n    0.5,\\n    0.9,\\n    \\\"Language Development of My Two Sons\\\",\\n    fontsize=TITLE_SIZE,\\n    verticalalignment=\\\"center\\\",\\n    horizontalalignment=\\\"center\\\",\\n)\\n\\n# Save to disk\\nfor ext in (\\\"png\\\", \\\"svg\\\"):\\n    fig.savefig(\\n        \\\"/tmp/child0_vs_child1_total_words_linear.{ext}\\\".format(ext=ext),\\n        bbox_inches=\\\"tight\\\",\\n    )\";\n",
       "                var nbb_formatted_code = \"languages = (\\\"Chinese\\\", \\\"English\\\", \\\"Spanish\\\", \\\"Sign\\\", \\\"Animal Sound\\\")\\n\\nfig, ax = plt.subplots(len(languages), 1, figsize=(WIDTH + 2, WIDTH + 2), sharex=True)\\nfig.subplots_adjust(hspace=0)\\n\\nmake_compare_plot(\\n    ax,\\n    words_df,\\n    language_day_count_df,\\n    theo_words_df,\\n    theo_language_day_count_df,\\n    {\\n        \\\"Chinese\\\": (0.73, 0.78),\\n        \\\"English\\\": (0.73, 0.89),\\n        \\\"Spanish\\\": (0.73, 0.89),\\n        \\\"Sign\\\": (0.73, 0.72),\\n        \\\"Animal Sound\\\": (0.73, 0.89),\\n    },\\n)\\n\\nfig.text(\\n    0.5,\\n    0.9,\\n    \\\"Language Development of My Two Sons\\\",\\n    fontsize=TITLE_SIZE,\\n    verticalalignment=\\\"center\\\",\\n    horizontalalignment=\\\"center\\\",\\n)\\n\\n# Save to disk\\nfor ext in (\\\"png\\\", \\\"svg\\\"):\\n    fig.savefig(\\n        \\\"/tmp/child0_vs_child1_total_words_linear.{ext}\\\".format(ext=ext),\\n        bbox_inches=\\\"tight\\\",\\n    )\";\n",
       "                var nbb_cells = Jupyter.notebook.get_cells();\n",
       "                for (var i = 0; i < nbb_cells.length; ++i) {\n",
       "                    if (nbb_cells[i].input_prompt_number == nbb_cell_id) {\n",
       "                        if (nbb_cells[i].get_text() == nbb_unformatted_code) {\n",
       "                             nbb_cells[i].set_text(nbb_formatted_code);\n",
       "                        }\n",
       "                        break;\n",
       "                    }\n",
       "                }\n",
       "            }, 500);\n",
       "            "
      ],
      "text/plain": [
       "<IPython.core.display.Javascript object>"
      ]
     },
     "metadata": {},
     "output_type": "display_data"
    }
   ],
   "source": [
    "languages = (\"Chinese\", \"English\", \"Spanish\", \"Sign\", \"Animal Sound\")\n",
    "\n",
    "fig, ax = plt.subplots(len(languages), 1, figsize=(WIDTH + 2, WIDTH + 2), sharex=True)\n",
    "fig.subplots_adjust(hspace=0)\n",
    "\n",
    "make_compare_plot(\n",
    "    ax,\n",
    "    words_df,\n",
    "    language_day_count_df,\n",
    "    theo_words_df,\n",
    "    theo_language_day_count_df,\n",
    "    {\n",
    "        \"Chinese\": (0.73, 0.78),\n",
    "        \"English\": (0.73, 0.89),\n",
    "        \"Spanish\": (0.73, 0.89),\n",
    "        \"Sign\": (0.73, 0.72),\n",
    "        \"Animal Sound\": (0.73, 0.89),\n",
    "    },\n",
    ")\n",
    "\n",
    "fig.text(\n",
    "    0.5,\n",
    "    0.9,\n",
    "    \"Language Development of My Two Sons\",\n",
    "    fontsize=TITLE_SIZE,\n",
    "    verticalalignment=\"center\",\n",
    "    horizontalalignment=\"center\",\n",
    ")\n",
    "\n",
    "# Save to disk\n",
    "for ext in (\"png\", \"svg\"):\n",
    "    fig.savefig(\n",
    "        \"/tmp/child0_vs_child1_total_words_linear.{ext}\".format(ext=ext),\n",
    "        bbox_inches=\"tight\",\n",
    "    )"
   ]
  }
 ],
 "metadata": {
  "kernelspec": {
   "display_name": "Python 3",
   "language": "python",
   "name": "python3"
  },
  "language_info": {
   "codemirror_mode": {
    "name": "ipython",
    "version": 3
   },
   "file_extension": ".py",
   "mimetype": "text/x-python",
   "name": "python",
   "nbconvert_exporter": "python",
   "pygments_lexer": "ipython3",
   "version": "3.7.3"
  }
 },
 "nbformat": 4,
 "nbformat_minor": 2
}
