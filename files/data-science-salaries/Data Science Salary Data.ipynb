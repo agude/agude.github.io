{
 "cells": [
  {
   "cell_type": "code",
   "execution_count": 1,
   "metadata": {},
   "outputs": [],
   "source": [
    "import pandas as pd\n",
    "import seaborn as sns\n",
    "import matplotlib.pyplot as plt\n",
    "import matplotlib.ticker as ticker\n",
    "import tabulate"
   ]
  },
  {
   "cell_type": "code",
   "execution_count": 2,
   "metadata": {},
   "outputs": [],
   "source": [
    "# Set plotting style\n",
    "plt.style.use('seaborn-white')\n",
    "\n",
    "%matplotlib inline"
   ]
  },
  {
   "cell_type": "markdown",
   "metadata": {},
   "source": [
    "# Helper functions"
   ]
  },
  {
   "cell_type": "code",
   "execution_count": 3,
   "metadata": {},
   "outputs": [],
   "source": [
    "def make_markdown_table(df, by, val=\"total_recurring_comp\"):\n",
    "    frame = df[[by, val]].groupby([by]).agg({val: [\"count\", \"median\"]})\n",
    "    \n",
    "    print(tabulate.tabulate(frame, tablefmt=\"pipe\", headers=\"keys\"))"
   ]
  },
  {
   "cell_type": "code",
   "execution_count": 4,
   "metadata": {},
   "outputs": [],
   "source": [
    "def make_plot(df, x, y, file, y_label=\"\", x_label=\"\", order=None):\n",
    "    # Set plot size\n",
    "    fig = plt.gcf()\n",
    "    fig.set_size_inches(12, 8)\n",
    "\n",
    "    ax = sns.boxplot(\n",
    "        data=df, \n",
    "        x=x, \n",
    "        y=y,\n",
    "        linewidth=2,\n",
    "        order=order,\n",
    "    )\n",
    "\n",
    "    sns.despine(offset=10, trim=True)\n",
    "\n",
    "    # Use k instead of ,000 for thousands on y-axis\n",
    "    ax.yaxis.set_major_formatter(ticker.EngFormatter())\n",
    "    \n",
    "    plt.ylabel(y_label, fontsize=\"xx-large\")\n",
    "    plt.xlabel(x_label, fontsize=\"xx-large\")\n",
    "    plt.tick_params(axis='both', which='major', labelsize=13)\n",
    "\n",
    "    # Save to disk\n",
    "    for ext in (\"png\", \"svg\"):\n",
    "        fig.savefig(\"/tmp/{file}.{ext}\".format(file=file, ext=ext), bbox_inches=\"tight\", dpi=300)\n",
    "        \n",
    "    return fig"
   ]
  },
  {
   "cell_type": "markdown",
   "metadata": {},
   "source": [
    "# Data loading and cleaning\n",
    "\n",
    "The data has already been cleaned in the spreadsheet."
   ]
  },
  {
   "cell_type": "code",
   "execution_count": 5,
   "metadata": {},
   "outputs": [],
   "source": [
    "CSV_FILE = \"./insight_salary_survey_cleaned.csv\""
   ]
  },
  {
   "cell_type": "code",
   "execution_count": 6,
   "metadata": {},
   "outputs": [],
   "source": [
    "df = pd.read_csv(\n",
    "    filepath_or_buffer=CSV_FILE,\n",
    "    parse_dates=[0],\n",
    ")"
   ]
  },
  {
   "cell_type": "code",
   "execution_count": 7,
   "metadata": {},
   "outputs": [],
   "source": [
    "# Fill NaNs in Salary columns with 0s\n",
    "df = df.fillna({\n",
    "    \"base_salary\": 0,\n",
    "    \"annual_bonus\": 0,\n",
    "    \"relocation_and_signing\": 0,\n",
    "    \"equity_or_stock_per_year\": 0,\n",
    "})"
   ]
  },
  {
   "cell_type": "code",
   "execution_count": 8,
   "metadata": {
    "scrolled": true
   },
   "outputs": [],
   "source": [
    "# Add a year column\n",
    "df[\"year\"] = df[\"timestamp\"].dt.year"
   ]
  },
  {
   "cell_type": "code",
   "execution_count": 9,
   "metadata": {},
   "outputs": [],
   "source": [
    "# Combine Northeast (Boston) with East Coast (NYC and DC)\n",
    "# The distributions look identical anyway, and Boston has low N\n",
    "#\n",
    "# Also rename \"West Coast\" to \"California\" since it's just SF and LA, Seattle is Northwest\n",
    "\n",
    "df[\"coarse_region\"] = df[\"coarse_region\"].replace({\"East Coast\": \"Northeast\", \"West Coast\": \"California\"})"
   ]
  },
  {
   "cell_type": "code",
   "execution_count": 10,
   "metadata": {},
   "outputs": [],
   "source": [
    "# Add a Base + Bonus column\n",
    "df[\"base_and_bonus\"] = df[\"base_salary\"] + df[\"annual_bonus\"]"
   ]
  },
  {
   "cell_type": "code",
   "execution_count": 11,
   "metadata": {},
   "outputs": [
    {
     "data": {
      "text/html": [
       "<div>\n",
       "<style scoped>\n",
       "    .dataframe tbody tr th:only-of-type {\n",
       "        vertical-align: middle;\n",
       "    }\n",
       "\n",
       "    .dataframe tbody tr th {\n",
       "        vertical-align: top;\n",
       "    }\n",
       "\n",
       "    .dataframe thead th {\n",
       "        text-align: right;\n",
       "    }\n",
       "</style>\n",
       "<table border=\"1\" class=\"dataframe\">\n",
       "  <thead>\n",
       "    <tr style=\"text-align: right;\">\n",
       "      <th></th>\n",
       "      <th>timestamp</th>\n",
       "      <th>base_salary</th>\n",
       "      <th>annual_bonus</th>\n",
       "      <th>relocation_and_signing</th>\n",
       "      <th>equity_or_stock_per_year</th>\n",
       "      <th>total_comp</th>\n",
       "      <th>total_recurring_comp</th>\n",
       "      <th>job_title</th>\n",
       "      <th>seniority</th>\n",
       "      <th>years_exp</th>\n",
       "      <th>degree</th>\n",
       "      <th>approx_location</th>\n",
       "      <th>coarse_region</th>\n",
       "      <th>fine_region</th>\n",
       "      <th>gender</th>\n",
       "      <th>ethnicity</th>\n",
       "      <th>age_range</th>\n",
       "      <th>age</th>\n",
       "      <th>year</th>\n",
       "      <th>base_and_bonus</th>\n",
       "    </tr>\n",
       "  </thead>\n",
       "  <tbody>\n",
       "    <tr>\n",
       "      <th>0</th>\n",
       "      <td>2017-04-21 15:23:00</td>\n",
       "      <td>115000</td>\n",
       "      <td>8000.0</td>\n",
       "      <td>7500.0</td>\n",
       "      <td>59500.0</td>\n",
       "      <td>190000</td>\n",
       "      <td>182500</td>\n",
       "      <td>Data Scientist</td>\n",
       "      <td>Junior/entry level</td>\n",
       "      <td>0</td>\n",
       "      <td>Doctorate</td>\n",
       "      <td>NaN</td>\n",
       "      <td>NaN</td>\n",
       "      <td>NaN</td>\n",
       "      <td>NaN</td>\n",
       "      <td>NaN</td>\n",
       "      <td>NaN</td>\n",
       "      <td>NaN</td>\n",
       "      <td>2017</td>\n",
       "      <td>123000.0</td>\n",
       "    </tr>\n",
       "    <tr>\n",
       "      <th>1</th>\n",
       "      <td>2017-04-21 15:27:00</td>\n",
       "      <td>137800</td>\n",
       "      <td>16000.0</td>\n",
       "      <td>28000.0</td>\n",
       "      <td>0.0</td>\n",
       "      <td>181800</td>\n",
       "      <td>153800</td>\n",
       "      <td>Machine Learning Engineer</td>\n",
       "      <td>Middle</td>\n",
       "      <td>1</td>\n",
       "      <td>Doctorate</td>\n",
       "      <td>South Bay</td>\n",
       "      <td>California</td>\n",
       "      <td>Bay Area</td>\n",
       "      <td>NaN</td>\n",
       "      <td>NaN</td>\n",
       "      <td>NaN</td>\n",
       "      <td>NaN</td>\n",
       "      <td>2017</td>\n",
       "      <td>153800.0</td>\n",
       "    </tr>\n",
       "    <tr>\n",
       "      <th>2</th>\n",
       "      <td>2017-04-21 15:28:00</td>\n",
       "      <td>125000</td>\n",
       "      <td>16000.0</td>\n",
       "      <td>5000.0</td>\n",
       "      <td>15000.0</td>\n",
       "      <td>161000</td>\n",
       "      <td>156000</td>\n",
       "      <td>Data Scientist</td>\n",
       "      <td>Junior/entry level</td>\n",
       "      <td>1</td>\n",
       "      <td>Doctorate</td>\n",
       "      <td>NaN</td>\n",
       "      <td>NaN</td>\n",
       "      <td>NaN</td>\n",
       "      <td>NaN</td>\n",
       "      <td>NaN</td>\n",
       "      <td>NaN</td>\n",
       "      <td>NaN</td>\n",
       "      <td>2017</td>\n",
       "      <td>141000.0</td>\n",
       "    </tr>\n",
       "  </tbody>\n",
       "</table>\n",
       "</div>"
      ],
      "text/plain": [
       "            timestamp  base_salary  annual_bonus  relocation_and_signing  \\\n",
       "0 2017-04-21 15:23:00       115000        8000.0                  7500.0   \n",
       "1 2017-04-21 15:27:00       137800       16000.0                 28000.0   \n",
       "2 2017-04-21 15:28:00       125000       16000.0                  5000.0   \n",
       "\n",
       "   equity_or_stock_per_year  total_comp  total_recurring_comp  \\\n",
       "0                   59500.0      190000                182500   \n",
       "1                       0.0      181800                153800   \n",
       "2                   15000.0      161000                156000   \n",
       "\n",
       "                   job_title           seniority  years_exp     degree  \\\n",
       "0             Data Scientist  Junior/entry level          0  Doctorate   \n",
       "1  Machine Learning Engineer              Middle          1  Doctorate   \n",
       "2             Data Scientist  Junior/entry level          1  Doctorate   \n",
       "\n",
       "  approx_location coarse_region fine_region gender ethnicity age_range  age  \\\n",
       "0             NaN           NaN         NaN    NaN       NaN       NaN  NaN   \n",
       "1       South Bay    California    Bay Area    NaN       NaN       NaN  NaN   \n",
       "2             NaN           NaN         NaN    NaN       NaN       NaN  NaN   \n",
       "\n",
       "   year  base_and_bonus  \n",
       "0  2017        123000.0  \n",
       "1  2017        153800.0  \n",
       "2  2017        141000.0  "
      ]
     },
     "execution_count": 11,
     "metadata": {},
     "output_type": "execute_result"
    }
   ],
   "source": [
    "df.head(3)"
   ]
  },
  {
   "cell_type": "markdown",
   "metadata": {},
   "source": [
    "# Salary by job title"
   ]
  },
  {
   "cell_type": "code",
   "execution_count": 12,
   "metadata": {},
   "outputs": [],
   "source": [
    "df_tmp = df[df[\"job_title\"] != \"Product Manager\"]\n",
    "df_tmp = df_tmp[df_tmp[\"job_title\"] != \"Software Engineer\"]"
   ]
  },
  {
   "cell_type": "code",
   "execution_count": 13,
   "metadata": {
    "scrolled": true
   },
   "outputs": [
    {
     "name": "stdout",
     "output_type": "stream",
     "text": [
      "| job_title                 |   ('total_recurring_comp', 'count') |   ('total_recurring_comp', 'median') |\n",
      "|:--------------------------|------------------------------------:|-------------------------------------:|\n",
      "| Analyst                   |                                   5 |                               105002 |\n",
      "| Data Engineer             |                                  14 |                               128000 |\n",
      "| Data Scientist            |                                 132 |                               145000 |\n",
      "| Machine Learning Engineer |                                   8 |                               161900 |\n"
     ]
    }
   ],
   "source": [
    "make_markdown_table(df_tmp, \"job_title\")"
   ]
  },
  {
   "cell_type": "code",
   "execution_count": 14,
   "metadata": {},
   "outputs": [
    {
     "data": {
      "image/png": "[encoded data removed]",
      "text/plain": [
       "<Figure size 864x576 with 1 Axes>"
      ]
     },
     "metadata": {
      "needs_background": "light"
     },
     "output_type": "display_data"
    }
   ],
   "source": [
    "order = df_tmp.groupby([\"job_title\"])[\"total_recurring_comp\"].median().sort_values(ascending=False).index.values\n",
    "  \n",
    "fig = make_plot(\n",
    "    df=df_tmp,\n",
    "    x=\"job_title\",\n",
    "    y=\"total_recurring_comp\",\n",
    "    file=\"data_science_total_comp_vs_others\",\n",
    "    y_label=\"Total Compensation\",\n",
    "    order=order,\n",
    ")"
   ]
  },
  {
   "cell_type": "markdown",
   "metadata": {},
   "source": [
    "# Salary by job title and location"
   ]
  },
  {
   "cell_type": "code",
   "execution_count": 15,
   "metadata": {},
   "outputs": [],
   "source": [
    "df_tmp = df[df[\"job_title\"] == \"Data Scientist\"]\n",
    "df_tmp = df_tmp[df_tmp[\"coarse_region\"].isin([\"California\", \"Northeast\", \"Northwest\", \"Midwest\"])]"
   ]
  },
  {
   "cell_type": "code",
   "execution_count": 16,
   "metadata": {},
   "outputs": [
    {
     "name": "stdout",
     "output_type": "stream",
     "text": [
      "| coarse_region   |   ('total_recurring_comp', 'count') |   ('total_recurring_comp', 'median') |\n",
      "|:----------------|------------------------------------:|-------------------------------------:|\n",
      "| California      |                                  54 |                               170000 |\n",
      "| Midwest         |                                   5 |                               124000 |\n",
      "| Northeast       |                                  57 |                               137000 |\n",
      "| Northwest       |                                   6 |                               133750 |\n"
     ]
    }
   ],
   "source": [
    "make_markdown_table(df_tmp, \"coarse_region\")"
   ]
  },
  {
   "cell_type": "code",
   "execution_count": 17,
   "metadata": {
    "scrolled": false
   },
   "outputs": [
    {
     "data": {
      "image/png": "[encoded data removed]",
      "text/plain": [
       "<Figure size 864x576 with 1 Axes>"
      ]
     },
     "metadata": {
      "needs_background": "light"
     },
     "output_type": "display_data"
    }
   ],
   "source": [
    "order = df_tmp.groupby([\"coarse_region\"])[\"total_recurring_comp\"].median().sort_values(ascending=False).index.values\n",
    "\n",
    "fig = make_plot(\n",
    "    df=df_tmp,\n",
    "    x=\"coarse_region\",\n",
    "    y=\"total_recurring_comp\",\n",
    "    file=\"data_science_total_comp_by_region\",\n",
    "    y_label=\"Total Compensation\",\n",
    "    order=order,\n",
    ")"
   ]
  },
  {
   "cell_type": "code",
   "execution_count": 18,
   "metadata": {},
   "outputs": [
    {
     "name": "stdout",
     "output_type": "stream",
     "text": [
      "| coarse_region   |   ('base_and_bonus', 'count') |   ('base_and_bonus', 'median') |\n",
      "|:----------------|------------------------------:|-------------------------------:|\n",
      "| California      |                            54 |                         150750 |\n",
      "| Midwest         |                             5 |                         124000 |\n",
      "| Northeast       |                            57 |                         137000 |\n",
      "| Northwest       |                             6 |                         128500 |\n"
     ]
    }
   ],
   "source": [
    "make_markdown_table(df_tmp, \"coarse_region\", \"base_and_bonus\")"
   ]
  },
  {
   "cell_type": "code",
   "execution_count": 19,
   "metadata": {
    "scrolled": false
   },
   "outputs": [
    {
     "data": {
      "image/png": "[encoded data removed]",
      "text/plain": [
       "<Figure size 864x576 with 1 Axes>"
      ]
     },
     "metadata": {
      "needs_background": "light"
     },
     "output_type": "display_data"
    }
   ],
   "source": [
    "fig = make_plot(\n",
    "    df=df_tmp,\n",
    "    x=\"coarse_region\",\n",
    "    y=\"base_and_bonus\",\n",
    "    file=\"data_science_salary_by_region\",\n",
    "    y_label=\"Base Salary + Bonus\",\n",
    "    order=order,\n",
    ")"
   ]
  },
  {
   "cell_type": "code",
   "execution_count": 20,
   "metadata": {},
   "outputs": [
    {
     "data": {
      "text/html": [
       "<div>\n",
       "<style scoped>\n",
       "    .dataframe tbody tr th:only-of-type {\n",
       "        vertical-align: middle;\n",
       "    }\n",
       "\n",
       "    .dataframe tbody tr th {\n",
       "        vertical-align: top;\n",
       "    }\n",
       "\n",
       "    .dataframe thead th {\n",
       "        text-align: right;\n",
       "    }\n",
       "</style>\n",
       "<table border=\"1\" class=\"dataframe\">\n",
       "  <thead>\n",
       "    <tr style=\"text-align: right;\">\n",
       "      <th></th>\n",
       "      <th>timestamp</th>\n",
       "      <th>base_salary</th>\n",
       "      <th>annual_bonus</th>\n",
       "      <th>relocation_and_signing</th>\n",
       "      <th>equity_or_stock_per_year</th>\n",
       "      <th>total_comp</th>\n",
       "      <th>total_recurring_comp</th>\n",
       "      <th>job_title</th>\n",
       "      <th>seniority</th>\n",
       "      <th>years_exp</th>\n",
       "      <th>degree</th>\n",
       "      <th>approx_location</th>\n",
       "      <th>coarse_region</th>\n",
       "      <th>fine_region</th>\n",
       "      <th>gender</th>\n",
       "      <th>ethnicity</th>\n",
       "      <th>age_range</th>\n",
       "      <th>age</th>\n",
       "      <th>year</th>\n",
       "      <th>base_and_bonus</th>\n",
       "    </tr>\n",
       "  </thead>\n",
       "  <tbody>\n",
       "    <tr>\n",
       "      <th>21</th>\n",
       "      <td>2017-04-22 13:08:00</td>\n",
       "      <td>80000</td>\n",
       "      <td>2000.0</td>\n",
       "      <td>0.0</td>\n",
       "      <td>0.0</td>\n",
       "      <td>82000</td>\n",
       "      <td>82000</td>\n",
       "      <td>Data Scientist</td>\n",
       "      <td>Junior/entry level</td>\n",
       "      <td>1</td>\n",
       "      <td>Doctorate</td>\n",
       "      <td>CA</td>\n",
       "      <td>California</td>\n",
       "      <td>NaN</td>\n",
       "      <td>NaN</td>\n",
       "      <td>NaN</td>\n",
       "      <td>NaN</td>\n",
       "      <td>NaN</td>\n",
       "      <td>2017</td>\n",
       "      <td>82000.0</td>\n",
       "    </tr>\n",
       "    <tr>\n",
       "      <th>26</th>\n",
       "      <td>2017-04-23 05:48:00</td>\n",
       "      <td>80000</td>\n",
       "      <td>0.0</td>\n",
       "      <td>0.0</td>\n",
       "      <td>0.0</td>\n",
       "      <td>80000</td>\n",
       "      <td>80000</td>\n",
       "      <td>Data Scientist</td>\n",
       "      <td>Junior/entry level</td>\n",
       "      <td>1</td>\n",
       "      <td>Doctorate</td>\n",
       "      <td>New York</td>\n",
       "      <td>Northeast</td>\n",
       "      <td>New York</td>\n",
       "      <td>NaN</td>\n",
       "      <td>NaN</td>\n",
       "      <td>NaN</td>\n",
       "      <td>NaN</td>\n",
       "      <td>2017</td>\n",
       "      <td>80000.0</td>\n",
       "    </tr>\n",
       "  </tbody>\n",
       "</table>\n",
       "</div>"
      ],
      "text/plain": [
       "             timestamp  base_salary  annual_bonus  relocation_and_signing  \\\n",
       "21 2017-04-22 13:08:00        80000        2000.0                     0.0   \n",
       "26 2017-04-23 05:48:00        80000           0.0                     0.0   \n",
       "\n",
       "    equity_or_stock_per_year  total_comp  total_recurring_comp  \\\n",
       "21                       0.0       82000                 82000   \n",
       "26                       0.0       80000                 80000   \n",
       "\n",
       "         job_title           seniority  years_exp     degree approx_location  \\\n",
       "21  Data Scientist  Junior/entry level          1  Doctorate              CA   \n",
       "26  Data Scientist  Junior/entry level          1  Doctorate        New York   \n",
       "\n",
       "   coarse_region fine_region gender ethnicity age_range  age  year  \\\n",
       "21    California         NaN    NaN       NaN       NaN  NaN  2017   \n",
       "26     Northeast    New York    NaN       NaN       NaN  NaN  2017   \n",
       "\n",
       "    base_and_bonus  \n",
       "21         82000.0  \n",
       "26         80000.0  "
      ]
     },
     "execution_count": 20,
     "metadata": {},
     "output_type": "execute_result"
    }
   ],
   "source": [
    "df_tmp[df_tmp[\"base_salary\"] <= 85000]"
   ]
  },
  {
   "cell_type": "markdown",
   "metadata": {},
   "source": [
    "# Change in salary by experience"
   ]
  },
  {
   "cell_type": "code",
   "execution_count": 21,
   "metadata": {},
   "outputs": [],
   "source": [
    "df_tmp = df[df[\"job_title\"] == \"Data Scientist\"]\n",
    "df_tmp = df_tmp[df_tmp[\"coarse_region\"] == \"California\"]"
   ]
  },
  {
   "cell_type": "code",
   "execution_count": 22,
   "metadata": {},
   "outputs": [
    {
     "name": "stdout",
     "output_type": "stream",
     "text": [
      "|   years_exp |   ('total_recurring_comp', 'count') |   ('total_recurring_comp', 'median') |\n",
      "|------------:|------------------------------------:|-------------------------------------:|\n",
      "|           0 |                                   6 |                               125000 |\n",
      "|           1 |                                  20 |                               166688 |\n",
      "|           2 |                                  17 |                               193000 |\n",
      "|           3 |                                   7 |                               264000 |\n",
      "|           4 |                                   4 |                               159000 |\n"
     ]
    }
   ],
   "source": [
    "make_markdown_table(df_tmp, \"years_exp\")"
   ]
  },
  {
   "cell_type": "code",
   "execution_count": 23,
   "metadata": {
    "scrolled": false
   },
   "outputs": [
    {
     "data": {
      "image/png": "[encoded data removed]",
      "text/plain": [
       "<Figure size 864x576 with 1 Axes>"
      ]
     },
     "metadata": {
      "needs_background": "light"
     },
     "output_type": "display_data"
    }
   ],
   "source": [
    "fig = make_plot(\n",
    "    df=df_tmp,\n",
    "    x=\"years_exp\",\n",
    "    y=\"total_recurring_comp\",\n",
    "    file=\"data_science_total_comp_by_experience\",\n",
    "    y_label=\"Total Compensation\",\n",
    "    x_label=\"Years of Experience\"\n",
    ")"
   ]
  },
  {
   "cell_type": "markdown",
   "metadata": {},
   "source": [
    "# Change in salary by level"
   ]
  },
  {
   "cell_type": "code",
   "execution_count": 24,
   "metadata": {},
   "outputs": [],
   "source": [
    "df_tmp = df[df[\"job_title\"] == \"Data Scientist\"]\n",
    "df_tmp = df_tmp[df_tmp[\"coarse_region\"] == \"California\"]"
   ]
  },
  {
   "cell_type": "code",
   "execution_count": 25,
   "metadata": {},
   "outputs": [
    {
     "name": "stdout",
     "output_type": "stream",
     "text": [
      "| seniority          |   ('total_recurring_comp', 'count') |   ('total_recurring_comp', 'median') |\n",
      "|:-------------------|------------------------------------:|-------------------------------------:|\n",
      "| Junior/entry level |                                  17 |                               130000 |\n",
      "| Middle             |                                  24 |                               181750 |\n",
      "| Senior             |                                  13 |                               205000 |\n"
     ]
    }
   ],
   "source": [
    "make_markdown_table(df_tmp, \"seniority\")"
   ]
  },
  {
   "cell_type": "code",
   "execution_count": 26,
   "metadata": {
    "scrolled": false
   },
   "outputs": [
    {
     "data": {
      "image/png": "[encoded data removed]",
      "text/plain": [
       "<Figure size 864x576 with 1 Axes>"
      ]
     },
     "metadata": {
      "needs_background": "light"
     },
     "output_type": "display_data"
    }
   ],
   "source": [
    "fig = make_plot(\n",
    "    df=df_tmp,\n",
    "    x=\"seniority\",\n",
    "    y=\"total_recurring_comp\",\n",
    "    file=\"data_science_total_comp_by_seniority\",\n",
    "    y_label=\"Total Compensation\",\n",
    "    order=[\"Junior/entry level\", \"Middle\", \"Senior\"]\n",
    ")"
   ]
  }
 ],
 "metadata": {
  "kernelspec": {
   "display_name": "Python 3",
   "language": "python",
   "name": "python3"
  },
  "language_info": {
   "codemirror_mode": {
    "name": "ipython",
    "version": 3
   },
   "file_extension": ".py",
   "mimetype": "text/x-python",
   "name": "python",
   "nbconvert_exporter": "python",
   "pygments_lexer": "ipython3",
   "version": "3.7.1"
  }
 },
 "nbformat": 4,
 "nbformat_minor": 2
}
