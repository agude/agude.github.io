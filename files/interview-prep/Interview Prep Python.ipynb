{
 "cells": [
  {
   "cell_type": "code",
   "execution_count": null,
   "metadata": {},
   "outputs": [],
   "source": [
    "import pandas as pd\n",
    "import sqlite3\n",
    "from nltk import edit_distance as dist"
   ]
  },
  {
   "cell_type": "code",
   "execution_count": null,
   "metadata": {},
   "outputs": [],
   "source": [
    "pd.set_option('display.max_rows', None)\n",
    "pd.set_option('display.max_columns', None)\n",
    "pd.set_option('display.width', None)"
   ]
  },
  {
   "cell_type": "code",
   "execution_count": null,
   "metadata": {},
   "outputs": [],
   "source": [
    "con = sqlite3.Connection(\"./switrs.sqlite\")"
   ]
  },
  {
   "cell_type": "markdown",
   "metadata": {},
   "source": [
    "<strong style=\"color:red;font-size:2rem;\">WARNING: This notebook will use a lot of RAM!</strong>\n",
    "    \n",
    " This notebook will use about 8-10 gigs of RAM loading the two tables into dataframes.\n",
    " \n",
    " If you want to use less, make this number below larger:"
   ]
  },
  {
   "cell_type": "code",
   "execution_count": null,
   "metadata": {},
   "outputs": [],
   "source": [
    "REDUCTION_FACTOR = 10"
   ]
  },
  {
   "cell_type": "code",
   "execution_count": null,
   "metadata": {},
   "outputs": [],
   "source": [
    "collisions = pd.read_sql(\n",
    "    f\"SELECT * FROM collisions WHERE ABS(RANDOM() % {REDUCTION_FACTOR}) = 0\", \n",
    "    con, \n",
    "    parse_dates=[\"collision_date\"]\n",
    ")"
   ]
  },
  {
   "cell_type": "code",
   "execution_count": null,
   "metadata": {},
   "outputs": [],
   "source": [
    "parties = pd.read_sql(f\"SELECT * FROM parties WHERE ABS(RANDOM() % {REDUCTION_FACTOR}) = 0\", con)"
   ]
  },
  {
   "cell_type": "markdown",
   "metadata": {},
   "source": [
    "# Data Science Interview Practice: Data Manipulation\n",
    "\n",
    "I often get asked by newly-minted PhDs trying to get their first data job:\n",
    "\n",
    "> How can I prepare for dataset-based interviews? Do you have any examples of\n",
    "> datasets to practice with?\n",
    "\n",
    "I never had a good answer. I would tell them about how the interviews worked,\n",
    "but I wished I had something to share that they could get their hands on.\n",
    "\n",
    "As of today, that's changing. In this post I put together a series of practice\n",
    "questions like the kind you might see (or be expected to come up with) in a\n",
    "hands-on data interview using the [curated and hosted dataset of California\n",
    "Traffic accidents][switrs_dataset]. The dataset is available for download from\n",
    "both [Kaggle][kaggle] and [Zenodo][zenodo], and I even have an [example\n",
    "notebook][example_notebook] demonstrating how to work with the data entirely\n",
    "online within Kaggle.\n",
    "\n",
    "[switrs_dataset]: https://alexgude.com/blog/switrs-sqlite-hosted-dataset/\n",
    "\n",
    "[kaggle]: https://www.kaggle.com/alexgude/california-traffic-collision-data-from-switrs\n",
    "\n",
    "[zenodo]: https://zenodo.org/record/4284843\n",
    "\n",
    "[example_notebook]: https://www.kaggle.com/alexgude/starter-california-traffic-collisions-from-switrs\n",
    "\n",
    "## Interview Format\n",
    "\n",
    "As I mentioned in [my post about my most recent interview\n",
    "experience][last_post], data science and machine learning interviews have\n",
    "become more practical, covering tasks that show up in the day-to-day work of a\n",
    "data scientist instead of hard but irrelevant problems. One common interview\n",
    "type involves working with a dataset, answering some simple questions about\n",
    "it, and then building some simple features.\n",
    "\n",
    "[last_post]: https://alexgude.com/blog/interviewing-for-data-science-positions-in-2020/\n",
    "\n",
    "Generally these interviews use Python and [Pandas][pandas] or pure SQL.\n",
    "Sometimes the interviewer has a set of questions for you to answer and\n",
    "sometimes they want you to come up with your own.\n",
    "\n",
    "[pandas]: https://en.wikipedia.org/wiki/Pandas_(software)\n",
    "\n",
    "To help people prepare, I have created a set of questions similar to what you\n",
    "would get in a real interview. For the exercise you will be using the SWITRS\n",
    "dataset. I have included a notebook to get you started in Pandas or SQL. The\n",
    "solution notebooks can be found at the very end.\n",
    "\n",
    "Good luck, and if you have any questions or suggestions please reach out to me\n",
    "on Twitter: [@alex_gude][twitter]\n",
    "\n",
    "[twitter]: https://twitter.com/alex_gude\n",
    "\n",
    "## Questions"
   ]
  },
  {
   "cell_type": "markdown",
   "metadata": {},
   "source": [
    "### How many collisions are there in the dataset?\n",
    "\n",
    "A good first thing to check is \"How much data am I dealing with?\"\n",
    "\n",
    "Each row in the collisions database represents one collision, so the solution\n",
    "is nice and short:"
   ]
  },
  {
   "cell_type": "code",
   "execution_count": null,
   "metadata": {},
   "outputs": [],
   "source": []
  },
  {
   "cell_type": "markdown",
   "metadata": {},
   "source": [
    "### What percent of collisions involve males aged 16--25?\n",
    "\n",
    "Young men are famously unsafe drivers so let's look at how many collisions\n",
    "they're involved in."
   ]
  },
  {
   "cell_type": "code",
   "execution_count": null,
   "metadata": {
    "scrolled": true
   },
   "outputs": [],
   "source": []
  },
  {
   "cell_type": "markdown",
   "metadata": {},
   "source": [
    "This won't match the answer in the post because we are randomly sampling."
   ]
  },
  {
   "cell_type": "markdown",
   "metadata": {},
   "source": [
    "### How many solo motorcycle crashes are there per year?\n",
    "\n",
    "A _\"solo\"_ crash is one where the driver runs off the road or hits a\n",
    "stationary object. How many solo motorcycle crashes were there each year? Why\n",
    "does 2020 seem to (relatively) have so few?"
   ]
  },
  {
   "cell_type": "code",
   "execution_count": null,
   "metadata": {},
   "outputs": [],
   "source": []
  },
  {
   "cell_type": "markdown",
   "metadata": {},
   "source": [
    "The count is low in 2020 primarily because the data doesn't cover the whole\n",
    "year. It is also low due to the COVID pandemic keeping people off the streets,\n",
    "at least initially. To differentiate these two causes we could compare month\n",
    "by month to last year."
   ]
  },
  {
   "cell_type": "markdown",
   "metadata": {},
   "source": [
    "### What make of vehicle has the largest fraction of accidents on the weekend? During the work week?\n",
    "\n",
    "Weekdays are generally commute and work-related traffic, while weekends\n",
    "involves recreational travel. Do we see different vehicles involved in\n",
    "collisions on these days?\n",
    "\n",
    "Only consider vehicle makes with at least 1,000 collisions, in order to focus\n",
    "only on common vehicles where the difference between weekend and weekday usage\n",
    "will be significant.\n",
    "\n",
    "This query is tricky. We need to aggregate collisions by vehicle make, which\n",
    "means we need the parties table. We also care about when the crash happened,\n",
    "which means we need the collisions table. So we need to join these two tables\n",
    "together.\n",
    "\n",
    "In an interview setting, I would write two simpler queries: one\n",
    "that gets the highest weekend fraction and one that gets the highest weekday\n",
    "fraction with a lot of copy and pasted code. This is a lot easier to work out.\n",
    "Here is an example of one of those queries:"
   ]
  },
  {
   "cell_type": "code",
   "execution_count": null,
   "metadata": {
    "scrolled": true
   },
   "outputs": [],
   "source": []
  },
  {
   "cell_type": "markdown",
   "metadata": {},
   "source": [
    "### How many different values represent \"Toyota\" in the Parties database? How would you go about correcting for this?\n",
    "\n",
    "Data is **_never_** as clean as you would hope,  and this applies even to the\n",
    "[curated SWITRS dataset][switrs_dataset]. How many different ways does\n",
    "\"Toyota\" show up?\n",
    "\n",
    "[switrs_dataset]: https://alexgude.com/blog/switrs-sqlite-hosted-dataset/\n",
    "\n",
    "What steps would you take to fix this problem?\n",
    "\n",
    "\n",
    "This is a case where there is no _right_ answer. You can get a more and more\n",
    "correct answer as you spend more time, but at some point you have to decide it\n",
    "is good enough."
   ]
  },
  {
   "cell_type": "code",
   "execution_count": null,
   "metadata": {
    "scrolled": true
   },
   "outputs": [],
   "source": []
  },
  {
   "cell_type": "markdown",
   "metadata": {},
   "source": [
    "Most of those look like they mean Toyota, although Tymco is a different\n",
    "company that makes street sweepers.\n",
    "\n",
    "Here is how I would handle this issue: the top 5 make up the vast majority of\n",
    "entries. I would fix those by hand and move on. More generally it seems that\n",
    "makes are represented mostly by their name or a four-letter abbreviation. It\n",
    "wouldn't be too hard to detect and fix these for the most common makes."
   ]
  }
 ],
 "metadata": {
  "kernelspec": {
   "display_name": "Python 3",
   "language": "python",
   "name": "python3"
  },
  "language_info": {
   "codemirror_mode": {
    "name": "ipython",
    "version": 3
   },
   "file_extension": ".py",
   "mimetype": "text/x-python",
   "name": "python",
   "nbconvert_exporter": "python",
   "pygments_lexer": "ipython3",
   "version": "3.8.3"
  }
 },
 "nbformat": 4,
 "nbformat_minor": 4
}
