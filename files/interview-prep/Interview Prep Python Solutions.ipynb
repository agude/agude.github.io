{
 "cells": [
  {
   "cell_type": "code",
   "execution_count": 1,
   "metadata": {},
   "outputs": [],
   "source": [
    "import pandas as pd\n",
    "import sqlite3"
   ]
  },
  {
   "cell_type": "code",
   "execution_count": 2,
   "metadata": {},
   "outputs": [],
   "source": [
    "pd.set_option('display.max_rows', None)\n",
    "pd.set_option('display.max_columns', None)\n",
    "pd.set_option('display.width', None)"
   ]
  },
  {
   "cell_type": "code",
   "execution_count": 3,
   "metadata": {},
   "outputs": [],
   "source": [
    "con = sqlite3.Connection(\"./switrs.sqlite\")"
   ]
  },
  {
   "cell_type": "markdown",
   "metadata": {},
   "source": [
    "<strong style=\"color:red;font-size:2rem;\">WARNING: This notebook will use a lot of RAM!</strong>\n",
    "    \n",
    " This notebook will use about 8-10 gigs of RAM loading the two tables into dataframes.\n",
    " \n",
    " If you want to use less, make this number below larger:"
   ]
  },
  {
   "cell_type": "code",
   "execution_count": 4,
   "metadata": {},
   "outputs": [],
   "source": [
    "REDUCTION_FACTOR = 10"
   ]
  },
  {
   "cell_type": "code",
   "execution_count": 5,
   "metadata": {},
   "outputs": [],
   "source": [
    "collisions = pd.read_sql(\n",
    "    f\"SELECT * FROM collisions WHERE ABS(RANDOM() % {REDUCTION_FACTOR}) = 0\", \n",
    "    con, \n",
    "    parse_dates=[\"collision_date\"]\n",
    ")"
   ]
  },
  {
   "cell_type": "code",
   "execution_count": 6,
   "metadata": {},
   "outputs": [],
   "source": [
    "parties = pd.read_sql(f\"SELECT * FROM parties WHERE ABS(RANDOM() % {REDUCTION_FACTOR}) = 0\", con)"
   ]
  },
  {
   "cell_type": "markdown",
   "metadata": {},
   "source": [
    "# Data Science Interview Practice: Data Manipulation\n",
    "\n",
    "I often get asked by newly-minted PhDs trying to get their first data job:\n",
    "\n",
    "> How can I prepare for dataset-based interviews? Do you have any examples of\n",
    "> datasets to practice with?\n",
    "\n",
    "I never had a good answer. I would tell them about how the interviews worked,\n",
    "but I wished I had something to share that they could get their hands on.\n",
    "\n",
    "As of today, that's changing. In this post I put together a series of practice\n",
    "questions like the kind you might see (or be expected to come up with) in a\n",
    "hands-on data interview using the [curated and hosted dataset of California\n",
    "Traffic accidents][switrs_dataset]. The dataset is available for download from\n",
    "both [Kaggle][kaggle] and [Zenodo][zenodo], and I even have an [example\n",
    "notebook][example_notebook] demonstrating how to work with the data entirely\n",
    "online within Kaggle.\n",
    "\n",
    "[switrs_dataset]: https://alexgude.com/blog/switrs-sqlite-hosted-dataset/\n",
    "\n",
    "[kaggle]: https://www.kaggle.com/alexgude/california-traffic-collision-data-from-switrs\n",
    "\n",
    "[zenodo]: https://zenodo.org/record/4284843\n",
    "\n",
    "[example_notebook]: https://www.kaggle.com/alexgude/starter-california-traffic-collisions-from-switrs\n",
    "\n",
    "## Interview Format\n",
    "\n",
    "As I mentioned in [my post about my most recent interview\n",
    "experience][last_post], data science and machine learning interviews have\n",
    "become more practical, covering tasks that show up in the day-to-day work of a\n",
    "data scientist instead of hard but irrelevant problems. One common interview\n",
    "type involves working with a dataset, answering some simple questions about\n",
    "it, and then building some simple features.\n",
    "\n",
    "[last_post]: https://alexgude.com/blog/interviewing-for-data-science-positions-in-2020/\n",
    "\n",
    "Generally these interviews use Python and [Pandas][pandas] or pure SQL.\n",
    "Sometimes the interviewer has a set of questions for you to answer and\n",
    "sometimes they want you to come up with your own.\n",
    "\n",
    "[pandas]: https://en.wikipedia.org/wiki/Pandas_(software)\n",
    "\n",
    "To help people prepare, I have created a set of questions similar to what you\n",
    "would get in a real interview. For the exercise you will be using the SWITRS\n",
    "dataset. I have included a notebook to get you started in Pandas or SQL. The\n",
    "solution notebooks can be found at the very end.\n",
    "\n",
    "Good luck, and if you have any questions or suggestions please reach out to me\n",
    "on Twitter: [@alex_gude][twitter]\n",
    "\n",
    "[twitter]: https://twitter.com/alex_gude\n",
    "\n",
    "## Questions"
   ]
  },
  {
   "cell_type": "markdown",
   "metadata": {},
   "source": [
    "### How many collisions are there in the dataset?\n",
    "\n",
    "A good first thing to check is \"How much data am I dealing with?\"\n",
    "\n",
    "Each row in the collisions database represents one collision, so the solution\n",
    "is nice and short:"
   ]
  },
  {
   "cell_type": "code",
   "execution_count": 7,
   "metadata": {},
   "outputs": [
    {
     "data": {
      "text/plain": [
       "918229"
      ]
     },
     "execution_count": 7,
     "metadata": {},
     "output_type": "execute_result"
    }
   ],
   "source": [
    "len(collisions)"
   ]
  },
  {
   "cell_type": "markdown",
   "metadata": {},
   "source": [
    "### What percent of collisions involve males aged 16--25?\n",
    "\n",
    "Young men are famously unsafe drivers so let's look at how many collisions\n",
    "they're involved in."
   ]
  },
  {
   "cell_type": "code",
   "execution_count": 8,
   "metadata": {
    "scrolled": true
   },
   "outputs": [
    {
     "data": {
      "text/plain": [
       "0.13792466581685284"
      ]
     },
     "execution_count": 8,
     "metadata": {},
     "output_type": "execute_result"
    }
   ],
   "source": [
    "criteria = (\n",
    "    (parties[\"party_sex\"] == \"male\")\n",
    "    & (parties[\"party_age\"].between(16, 25))\n",
    ")\n",
    "\n",
    "len(parties[criteria][\"case_id\"].unique()) / len(parties[\"case_id\"].unique())"
   ]
  },
  {
   "cell_type": "markdown",
   "metadata": {},
   "source": [
    "This won't match the answer in the post because we are randomly sampling."
   ]
  },
  {
   "cell_type": "markdown",
   "metadata": {},
   "source": [
    "### How many solo motorcycle crashes are there per year?\n",
    "\n",
    "A _\"solo\"_ crash is one where the driver runs off the road or hits a\n",
    "stationary object. How many solo motorcycle crashes were there each year? Why\n",
    "does 2020 seem to (relatively) have so few?"
   ]
  },
  {
   "cell_type": "code",
   "execution_count": 9,
   "metadata": {},
   "outputs": [
    {
     "data": {
      "text/plain": [
       "collision_date\n",
       "2001    300\n",
       "2002    370\n",
       "2003    392\n",
       "2004    392\n",
       "2005    378\n",
       "2006    396\n",
       "2007    437\n",
       "2008    457\n",
       "2009    421\n",
       "2010    398\n",
       "2011    395\n",
       "2012    434\n",
       "2013    439\n",
       "2014    418\n",
       "2015    430\n",
       "2016    445\n",
       "2017    456\n",
       "2018    455\n",
       "2019    403\n",
       "2020    296\n",
       "Name: jurisdiction, dtype: int64"
      ]
     },
     "execution_count": 9,
     "metadata": {},
     "output_type": "execute_result"
    }
   ],
   "source": [
    "criteria = (\n",
    "    (collisions[\"party_count\"] == 1)  # Solo crash\n",
    "    & (collisions[\"motorcycle_collision\"] == True)  # Is motorcycle collision\n",
    ")\n",
    "\n",
    "# Select a single column to speed computation, it could be any column, but I used jurisdiction.\n",
    "collisions[criteria][\"jurisdiction\"].groupby(collisions[\"collision_date\"].dt.year).count()"
   ]
  },
  {
   "cell_type": "markdown",
   "metadata": {},
   "source": [
    "The count is low in 2020 primarily because the data doesn't cover the whole\n",
    "year. It is also low due to the COVID pandemic keeping people off the streets,\n",
    "at least initially. To differentiate these two causes we could compare month\n",
    "by month to last year."
   ]
  },
  {
   "cell_type": "markdown",
   "metadata": {},
   "source": [
    "### What make of vehicle has the largest fraction of accidents on the weekend? During the work week?\n",
    "\n",
    "Weekdays are generally commute and work-related traffic, while weekends\n",
    "involves recreational travel. Do we see different vehicles involved in\n",
    "collisions on these days?\n",
    "\n",
    "Only consider vehicle makes with at least 1,000 collisions, in order to focus\n",
    "only on common vehicles where the difference between weekend and weekday usage\n",
    "will be significant.\n",
    "\n",
    "This query is tricky. We need to aggregate collisions by vehicle make, which\n",
    "means we need the parties table. We also care about when the crash happened,\n",
    "which means we need the collisions table. So we need to join these two tables\n",
    "together.\n",
    "\n",
    "In an interview setting, I would write two simpler queries: one\n",
    "that gets the highest weekend fraction and one that gets the highest weekday\n",
    "fraction with a lot of copy and pasted code. This is a lot easier to work out.\n",
    "Here is an example of one of those queries:"
   ]
  },
  {
   "cell_type": "code",
   "execution_count": 10,
   "metadata": {
    "scrolled": true
   },
   "outputs": [
    {
     "data": {
      "text/html": [
       "<div>\n",
       "<style scoped>\n",
       "    .dataframe tbody tr th:only-of-type {\n",
       "        vertical-align: middle;\n",
       "    }\n",
       "\n",
       "    .dataframe tbody tr th {\n",
       "        vertical-align: top;\n",
       "    }\n",
       "\n",
       "    .dataframe thead th {\n",
       "        text-align: right;\n",
       "    }\n",
       "</style>\n",
       "<table border=\"1\" class=\"dataframe\">\n",
       "  <thead>\n",
       "    <tr style=\"text-align: right;\">\n",
       "      <th></th>\n",
       "      <th>is_weekend</th>\n",
       "      <th>is_weekday</th>\n",
       "      <th>total</th>\n",
       "      <th>weekend_ratio</th>\n",
       "      <th>weekday_ratio</th>\n",
       "    </tr>\n",
       "    <tr>\n",
       "      <th>vehicle_make</th>\n",
       "      <th></th>\n",
       "      <th></th>\n",
       "      <th></th>\n",
       "      <th></th>\n",
       "      <th></th>\n",
       "    </tr>\n",
       "  </thead>\n",
       "  <tbody>\n",
       "    <tr>\n",
       "      <th>VOLKSWAGEN</th>\n",
       "      <td>729.0</td>\n",
       "      <td>1994.0</td>\n",
       "      <td>2723.0</td>\n",
       "      <td>0.267719</td>\n",
       "      <td>0.732281</td>\n",
       "    </tr>\n",
       "    <tr>\n",
       "      <th>FREIGHTLINER</th>\n",
       "      <td>162.0</td>\n",
       "      <td>1140.0</td>\n",
       "      <td>1302.0</td>\n",
       "      <td>0.124424</td>\n",
       "      <td>0.875576</td>\n",
       "    </tr>\n",
       "  </tbody>\n",
       "</table>\n",
       "</div>"
      ],
      "text/plain": [
       "              is_weekend  is_weekday   total  weekend_ratio  weekday_ratio\n",
       "vehicle_make                                                              \n",
       "VOLKSWAGEN         729.0      1994.0  2723.0       0.267719       0.732281\n",
       "FREIGHTLINER       162.0      1140.0  1302.0       0.124424       0.875576"
      ]
     },
     "execution_count": 10,
     "metadata": {},
     "output_type": "execute_result"
    }
   ],
   "source": [
    "collisions[\"day_name\"] = collisions[\"collision_date\"].dt.day_name()\n",
    "collisions[\"is_weekend\"] = collisions[\"day_name\"].isin((\"Saturday\", \"Sunday\"))\n",
    "collisions[\"is_weekday\"] = ~collisions[\"is_weekend\"]\n",
    "\n",
    "merged = pd.merge(\n",
    "    parties[[\"case_id\", \"vehicle_make\"]], \n",
    "    collisions[[\"case_id\", \"is_weekend\", \"is_weekday\"]], \n",
    "    how=\"inner\",\n",
    "    on=[\"case_id\"],\n",
    ")\n",
    "\n",
    "grouped = merged[[\"vehicle_make\", \"is_weekend\", \"is_weekday\"]].groupby(\"vehicle_make\").sum()\n",
    "grouped[\"total\"] = grouped[\"is_weekend\"] + grouped[\"is_weekday\"]\n",
    "selected = grouped[grouped[\"total\"] >= 1_000].copy()\n",
    "\n",
    "selected[\"weekend_ratio\"] = selected[\"is_weekend\"] / selected[\"total\"]\n",
    "selected[\"weekday_ratio\"] = selected[\"is_weekday\"] / selected[\"total\"]\n",
    "\n",
    "top_weekend = selected.sort_values([\"weekend_ratio\"], ascending=False).head(1)\n",
    "top_weekday = selected.sort_values([\"weekday_ratio\"], ascending=False).head(1)\n",
    "\n",
    "answer = pd.concat([top_weekend, top_weekday])\n",
    "answer.head()"
   ]
  },
  {
   "cell_type": "markdown",
   "metadata": {},
   "source": [
    "### How many different values represent \"Toyota\" in the Parties database? How would you go about correcting for this?\n",
    "\n",
    "Data is **_never_** as clean as you would hope,  and this applies even to the\n",
    "[curated SWITRS dataset][switrs_dataset]. How many different ways does\n",
    "\"Toyota\" show up?\n",
    "\n",
    "[switrs_dataset]: https://alexgude.com/blog/switrs-sqlite-hosted-dataset/\n",
    "\n",
    "What steps would you take to fix this problem?\n",
    "\n",
    "\n",
    "This is a case where there is no _right_ answer. You can get a more and more\n",
    "correct answer as you spend more time, but at some point you have to decide it\n",
    "is good enough."
   ]
  },
  {
   "cell_type": "code",
   "execution_count": 11,
   "metadata": {
    "scrolled": true
   },
   "outputs": [
    {
     "data": {
      "text/html": [
       "<div>\n",
       "<style scoped>\n",
       "    .dataframe tbody tr th:only-of-type {\n",
       "        vertical-align: middle;\n",
       "    }\n",
       "\n",
       "    .dataframe tbody tr th {\n",
       "        vertical-align: top;\n",
       "    }\n",
       "\n",
       "    .dataframe thead th {\n",
       "        text-align: right;\n",
       "    }\n",
       "</style>\n",
       "<table border=\"1\" class=\"dataframe\">\n",
       "  <thead>\n",
       "    <tr style=\"text-align: right;\">\n",
       "      <th></th>\n",
       "      <th>vehicle_make</th>\n",
       "      <th>count</th>\n",
       "    </tr>\n",
       "  </thead>\n",
       "  <tbody>\n",
       "    <tr>\n",
       "      <th>1582</th>\n",
       "      <td>TOYOTA</td>\n",
       "      <td>214779</td>\n",
       "    </tr>\n",
       "    <tr>\n",
       "      <th>1575</th>\n",
       "      <td>TOYO</td>\n",
       "      <td>15914</td>\n",
       "    </tr>\n",
       "    <tr>\n",
       "      <th>1590</th>\n",
       "      <td>TOYT</td>\n",
       "      <td>14158</td>\n",
       "    </tr>\n",
       "    <tr>\n",
       "      <th>1581</th>\n",
       "      <td>TOYOT</td>\n",
       "      <td>237</td>\n",
       "    </tr>\n",
       "    <tr>\n",
       "      <th>1571</th>\n",
       "      <td>TOY</td>\n",
       "      <td>202</td>\n",
       "    </tr>\n",
       "    <tr>\n",
       "      <th>1595</th>\n",
       "      <td>TOYTA</td>\n",
       "      <td>23</td>\n",
       "    </tr>\n",
       "    <tr>\n",
       "      <th>1583</th>\n",
       "      <td>TOYOTA/</td>\n",
       "      <td>20</td>\n",
       "    </tr>\n",
       "    <tr>\n",
       "      <th>1597</th>\n",
       "      <td>TOYTOA</td>\n",
       "      <td>7</td>\n",
       "    </tr>\n",
       "    <tr>\n",
       "      <th>1596</th>\n",
       "      <td>TOYTO</td>\n",
       "      <td>7</td>\n",
       "    </tr>\n",
       "    <tr>\n",
       "      <th>1573</th>\n",
       "      <td>TOYA</td>\n",
       "      <td>6</td>\n",
       "    </tr>\n",
       "    <tr>\n",
       "      <th>1587</th>\n",
       "      <td>TOYOYA</td>\n",
       "      <td>6</td>\n",
       "    </tr>\n",
       "    <tr>\n",
       "      <th>1598</th>\n",
       "      <td>TOYTOTA</td>\n",
       "      <td>5</td>\n",
       "    </tr>\n",
       "    <tr>\n",
       "      <th>1592</th>\n",
       "      <td>TOYT.</td>\n",
       "      <td>4</td>\n",
       "    </tr>\n",
       "    <tr>\n",
       "      <th>1577</th>\n",
       "      <td>TOYOA</td>\n",
       "      <td>3</td>\n",
       "    </tr>\n",
       "    <tr>\n",
       "      <th>1576</th>\n",
       "      <td>TOYO /</td>\n",
       "      <td>3</td>\n",
       "    </tr>\n",
       "    <tr>\n",
       "      <th>1593</th>\n",
       "      <td>TOYT/</td>\n",
       "      <td>3</td>\n",
       "    </tr>\n",
       "    <tr>\n",
       "      <th>1594</th>\n",
       "      <td>TOYT/SCI</td>\n",
       "      <td>2</td>\n",
       "    </tr>\n",
       "    <tr>\n",
       "      <th>1634</th>\n",
       "      <td>TYMCO</td>\n",
       "      <td>2</td>\n",
       "    </tr>\n",
       "    <tr>\n",
       "      <th>1579</th>\n",
       "      <td>TOYOR</td>\n",
       "      <td>2</td>\n",
       "    </tr>\n",
       "    <tr>\n",
       "      <th>1585</th>\n",
       "      <td>TOYOTS</td>\n",
       "      <td>2</td>\n",
       "    </tr>\n",
       "    <tr>\n",
       "      <th>1601</th>\n",
       "      <td>TOY`</td>\n",
       "      <td>1</td>\n",
       "    </tr>\n",
       "    <tr>\n",
       "      <th>1600</th>\n",
       "      <td>TOYT`</td>\n",
       "      <td>1</td>\n",
       "    </tr>\n",
       "    <tr>\n",
       "      <th>1599</th>\n",
       "      <td>TOYTR</td>\n",
       "      <td>1</td>\n",
       "    </tr>\n",
       "    <tr>\n",
       "      <th>1635</th>\n",
       "      <td>TYOT</td>\n",
       "      <td>1</td>\n",
       "    </tr>\n",
       "    <tr>\n",
       "      <th>1591</th>\n",
       "      <td>TOYT /</td>\n",
       "      <td>1</td>\n",
       "    </tr>\n",
       "    <tr>\n",
       "      <th>1589</th>\n",
       "      <td>TOYR</td>\n",
       "      <td>1</td>\n",
       "    </tr>\n",
       "    <tr>\n",
       "      <th>1588</th>\n",
       "      <td>TOYP</td>\n",
       "      <td>1</td>\n",
       "    </tr>\n",
       "    <tr>\n",
       "      <th>1584</th>\n",
       "      <td>TOYOTA`</td>\n",
       "      <td>1</td>\n",
       "    </tr>\n",
       "    <tr>\n",
       "      <th>1580</th>\n",
       "      <td>TOYORA</td>\n",
       "      <td>1</td>\n",
       "    </tr>\n",
       "    <tr>\n",
       "      <th>1578</th>\n",
       "      <td>TOYOAT</td>\n",
       "      <td>1</td>\n",
       "    </tr>\n",
       "    <tr>\n",
       "      <th>1574</th>\n",
       "      <td>TOYATA</td>\n",
       "      <td>1</td>\n",
       "    </tr>\n",
       "    <tr>\n",
       "      <th>1572</th>\n",
       "      <td>TOY0</td>\n",
       "      <td>1</td>\n",
       "    </tr>\n",
       "    <tr>\n",
       "      <th>1586</th>\n",
       "      <td>TOYOY</td>\n",
       "      <td>0</td>\n",
       "    </tr>\n",
       "  </tbody>\n",
       "</table>\n",
       "</div>"
      ],
      "text/plain": [
       "     vehicle_make   count\n",
       "1582       TOYOTA  214779\n",
       "1575         TOYO   15914\n",
       "1590         TOYT   14158\n",
       "1581        TOYOT     237\n",
       "1571          TOY     202\n",
       "1595        TOYTA      23\n",
       "1583      TOYOTA/      20\n",
       "1597       TOYTOA       7\n",
       "1596        TOYTO       7\n",
       "1573         TOYA       6\n",
       "1587       TOYOYA       6\n",
       "1598      TOYTOTA       5\n",
       "1592        TOYT.       4\n",
       "1577        TOYOA       3\n",
       "1576       TOYO /       3\n",
       "1593        TOYT/       3\n",
       "1594     TOYT/SCI       2\n",
       "1634        TYMCO       2\n",
       "1579        TOYOR       2\n",
       "1585       TOYOTS       2\n",
       "1601         TOY`       1\n",
       "1600        TOYT`       1\n",
       "1599        TOYTR       1\n",
       "1635         TYOT       1\n",
       "1591       TOYT /       1\n",
       "1589         TOYR       1\n",
       "1588         TOYP       1\n",
       "1584      TOYOTA`       1\n",
       "1580       TOYORA       1\n",
       "1578       TOYOAT       1\n",
       "1574       TOYATA       1\n",
       "1572         TOY0       1\n",
       "1586        TOYOY       0"
      ]
     },
     "execution_count": 11,
     "metadata": {},
     "output_type": "execute_result"
    }
   ],
   "source": [
    "regex = r\"(TOYOTA.*|TOY.*|TY.*)\"\n",
    "\n",
    "just_makes = parties[[\"vehicle_make\", \"party_sex\"]]\\\n",
    "               .groupby(\"vehicle_make\")\\\n",
    "               .count()\\\n",
    "               .reset_index()\\\n",
    "               .rename(columns={\"party_sex\": \"count\"})\\\n",
    "               .sort_values(\"count\", ascending=False)\n",
    "\n",
    "just_makes[just_makes[\"vehicle_make\"].str.match(regex)]"
   ]
  },
  {
   "cell_type": "markdown",
   "metadata": {},
   "source": [
    "Most of those look like they mean Toyota, although Tymco is a different\n",
    "company that makes street sweepers.\n",
    "\n",
    "Here is how I would handle this issue: the top 5 make up the vast majority of\n",
    "entries. I would fix those by hand and move on. More generally it seems that\n",
    "makes are represented mostly by their name or a four-letter abbreviation. It\n",
    "wouldn't be too hard to detect and fix these for the most common makes."
   ]
  }
 ],
 "metadata": {
  "kernelspec": {
   "display_name": "Python 3",
   "language": "python",
   "name": "python3"
  },
  "language_info": {
   "codemirror_mode": {
    "name": "ipython",
    "version": 3
   },
   "file_extension": ".py",
   "mimetype": "text/x-python",
   "name": "python",
   "nbconvert_exporter": "python",
   "pygments_lexer": "ipython3",
   "version": "3.8.3"
  }
 },
 "nbformat": 4,
 "nbformat_minor": 4
}
