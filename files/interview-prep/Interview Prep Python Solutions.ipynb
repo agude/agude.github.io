{
 "cells": [
  {
   "cell_type": "code",
   "execution_count": 1,
   "metadata": {},
   "outputs": [],
   "source": [
    "import pandas as pd\n",
    "import sqlite3\n",
    "from nltk import edit_distance as dist"
   ]
  },
  {
   "cell_type": "code",
   "execution_count": 2,
   "metadata": {},
   "outputs": [],
   "source": [
    "pd.set_option('display.max_rows', None)\n",
    "pd.set_option('display.max_columns', None)\n",
    "pd.set_option('display.width', None)"
   ]
  },
  {
   "cell_type": "code",
   "execution_count": 3,
   "metadata": {},
   "outputs": [],
   "source": [
    "con = sqlite3.Connection(\"./switrs.sqlite\")"
   ]
  },
  {
   "cell_type": "markdown",
   "metadata": {},
   "source": [
    "<strong style=\"color:red;font-size:2rem;\">WARNING: This notebook will use a lot of RAM!</strong>\n",
    "    \n",
    " This notebook will use about 8-10 gigs of RAM loading the two tables into dataframes.\n",
    " \n",
    " If you want to use less, make this number below larger:"
   ]
  },
  {
   "cell_type": "code",
   "execution_count": 4,
   "metadata": {},
   "outputs": [],
   "source": [
    "REDUCTION_FACTOR = 10"
   ]
  },
  {
   "cell_type": "code",
   "execution_count": 5,
   "metadata": {},
   "outputs": [],
   "source": [
    "collisions = pd.read_sql(\n",
    "    f\"SELECT * FROM collisions WHERE ABS(RANDOM() % {REDUCTION_FACTOR}) = 0\", \n",
    "    con, \n",
    "    parse_dates=[\"collision_date\"]\n",
    ")"
   ]
  },
  {
   "cell_type": "markdown",
   "metadata": {},
   "source": [
    "### How many collisions are there in the dataset?"
   ]
  },
  {
   "cell_type": "code",
   "execution_count": 6,
   "metadata": {},
   "outputs": [
    {
     "data": {
      "text/plain": [
       "916427"
      ]
     },
     "execution_count": 6,
     "metadata": {},
     "output_type": "execute_result"
    }
   ],
   "source": [
    "len(collisions)"
   ]
  },
  {
   "cell_type": "markdown",
   "metadata": {},
   "source": [
    "### What percent of collisions involve males aged 16-25?"
   ]
  },
  {
   "cell_type": "code",
   "execution_count": 7,
   "metadata": {},
   "outputs": [],
   "source": [
    "parties = pd.read_sql(f\"SELECT * FROM parties WHERE ABS(RANDOM() % {REDUCTION_FACTOR}) = 0\", con)"
   ]
  },
  {
   "cell_type": "code",
   "execution_count": 8,
   "metadata": {
    "scrolled": true
   },
   "outputs": [
    {
     "data": {
      "text/plain": [
       "0.1377241029453363"
      ]
     },
     "execution_count": 8,
     "metadata": {},
     "output_type": "execute_result"
    }
   ],
   "source": [
    "criteria = (\n",
    "    (parties[\"party_sex\"] == \"male\")\n",
    "    & (parties[\"party_age\"].between(16, 25))\n",
    ")\n",
    "\n",
    "len(parties[criteria][\"case_id\"].unique()) / len(parties[\"case_id\"].unique())"
   ]
  },
  {
   "cell_type": "markdown",
   "metadata": {},
   "source": [
    "This won't match the answer in the post because we are randomly sampling."
   ]
  },
  {
   "cell_type": "markdown",
   "metadata": {},
   "source": [
    "### How many solo motorcycle crashes are there per year?"
   ]
  },
  {
   "cell_type": "code",
   "execution_count": 9,
   "metadata": {},
   "outputs": [
    {
     "data": {
      "text/plain": [
       "collision_date\n",
       "2001    305\n",
       "2002    332\n",
       "2003    379\n",
       "2004    425\n",
       "2005    390\n",
       "2006    418\n",
       "2007    484\n",
       "2008    511\n",
       "2009    422\n",
       "2010    366\n",
       "2011    385\n",
       "2012    395\n",
       "2013    418\n",
       "2014    384\n",
       "2015    438\n",
       "2016    467\n",
       "2017    433\n",
       "2018    421\n",
       "2019    380\n",
       "2020    285\n",
       "Name: jurisdiction, dtype: int64"
      ]
     },
     "execution_count": 9,
     "metadata": {},
     "output_type": "execute_result"
    }
   ],
   "source": [
    "criteria = (\n",
    "    (collisions[\"party_count\"] == 1)  # Solo crash\n",
    "    & (collisions[\"motorcycle_collision\"] == True)  # Is motorcycle collision\n",
    ")\n",
    "\n",
    "# Select a single column to speed computation, it could be any column, but I used jurisdiction.\n",
    "collisions[criteria][\"jurisdiction\"].groupby(collisions[\"collision_date\"].dt.year).count()"
   ]
  },
  {
   "cell_type": "markdown",
   "metadata": {},
   "source": [
    "### What make of vehicle has the largest fraction of accidents on the weekend? During the work week?\n",
    "\n",
    "Only consider vehciles with at least 1,000 collisions or more."
   ]
  },
  {
   "cell_type": "code",
   "execution_count": 10,
   "metadata": {
    "scrolled": true
   },
   "outputs": [
    {
     "data": {
      "text/html": [
       "<div>\n",
       "<style scoped>\n",
       "    .dataframe tbody tr th:only-of-type {\n",
       "        vertical-align: middle;\n",
       "    }\n",
       "\n",
       "    .dataframe tbody tr th {\n",
       "        vertical-align: top;\n",
       "    }\n",
       "\n",
       "    .dataframe thead th {\n",
       "        text-align: right;\n",
       "    }\n",
       "</style>\n",
       "<table border=\"1\" class=\"dataframe\">\n",
       "  <thead>\n",
       "    <tr style=\"text-align: right;\">\n",
       "      <th></th>\n",
       "      <th>is_weekend</th>\n",
       "      <th>is_weekday</th>\n",
       "      <th>total</th>\n",
       "      <th>weekend_ratio</th>\n",
       "      <th>weekday_ratio</th>\n",
       "    </tr>\n",
       "    <tr>\n",
       "      <th>vehicle_make</th>\n",
       "      <th></th>\n",
       "      <th></th>\n",
       "      <th></th>\n",
       "      <th></th>\n",
       "      <th></th>\n",
       "    </tr>\n",
       "  </thead>\n",
       "  <tbody>\n",
       "    <tr>\n",
       "      <th>NISSAN</th>\n",
       "      <td>2375.0</td>\n",
       "      <td>6590.0</td>\n",
       "      <td>8965.0</td>\n",
       "      <td>0.264919</td>\n",
       "      <td>0.735081</td>\n",
       "    </tr>\n",
       "    <tr>\n",
       "      <th>FREIGHTLINER</th>\n",
       "      <td>163.0</td>\n",
       "      <td>1178.0</td>\n",
       "      <td>1341.0</td>\n",
       "      <td>0.121551</td>\n",
       "      <td>0.878449</td>\n",
       "    </tr>\n",
       "  </tbody>\n",
       "</table>\n",
       "</div>"
      ],
      "text/plain": [
       "              is_weekend  is_weekday   total  weekend_ratio  weekday_ratio\n",
       "vehicle_make                                                              \n",
       "NISSAN            2375.0      6590.0  8965.0       0.264919       0.735081\n",
       "FREIGHTLINER       163.0      1178.0  1341.0       0.121551       0.878449"
      ]
     },
     "execution_count": 10,
     "metadata": {},
     "output_type": "execute_result"
    }
   ],
   "source": [
    "collisions[\"day_name\"] = collisions[\"collision_date\"].dt.day_name()\n",
    "collisions[\"is_weekend\"] = collisions[\"day_name\"].isin((\"Saturday\", \"Sunday\"))\n",
    "collisions[\"is_weekday\"] = ~collisions[\"is_weekend\"]\n",
    "\n",
    "merged = pd.merge(\n",
    "    parties[[\"case_id\", \"vehicle_make\"]], \n",
    "    collisions[[\"case_id\", \"is_weekend\", \"is_weekday\"]], \n",
    "    how=\"inner\",\n",
    "    on=[\"case_id\"],\n",
    ")\n",
    "\n",
    "grouped = merged[[\"vehicle_make\", \"is_weekend\", \"is_weekday\"]].groupby(\"vehicle_make\").sum()\n",
    "grouped[\"total\"] = grouped[\"is_weekend\"] + grouped[\"is_weekday\"]\n",
    "selected = grouped[grouped[\"total\"] >= 1_000].copy()\n",
    "\n",
    "selected[\"weekend_ratio\"] = selected[\"is_weekend\"] / selected[\"total\"]\n",
    "selected[\"weekday_ratio\"] = selected[\"is_weekday\"] / selected[\"total\"]\n",
    "\n",
    "top_weekend = selected.sort_values([\"weekend_ratio\"], ascending=False).head(1)\n",
    "top_weekday = selected.sort_values([\"weekday_ratio\"], ascending=False).head(1)\n",
    "\n",
    "answer = pd.concat([top_weekend, top_weekday])\n",
    "answer.head()"
   ]
  },
  {
   "cell_type": "markdown",
   "metadata": {},
   "source": [
    "### How many different values represent \"Toyota\" in the Parties database? How would you go about correcting for this?"
   ]
  },
  {
   "cell_type": "code",
   "execution_count": 11,
   "metadata": {},
   "outputs": [
    {
     "data": {
      "text/html": [
       "<div>\n",
       "<style scoped>\n",
       "    .dataframe tbody tr th:only-of-type {\n",
       "        vertical-align: middle;\n",
       "    }\n",
       "\n",
       "    .dataframe tbody tr th {\n",
       "        vertical-align: top;\n",
       "    }\n",
       "\n",
       "    .dataframe thead th {\n",
       "        text-align: right;\n",
       "    }\n",
       "</style>\n",
       "<table border=\"1\" class=\"dataframe\">\n",
       "  <thead>\n",
       "    <tr style=\"text-align: right;\">\n",
       "      <th></th>\n",
       "      <th>vehicle_make</th>\n",
       "      <th>count</th>\n",
       "    </tr>\n",
       "  </thead>\n",
       "  <tbody>\n",
       "    <tr>\n",
       "      <th>1600</th>\n",
       "      <td>TOYOTA</td>\n",
       "      <td>215562</td>\n",
       "    </tr>\n",
       "    <tr>\n",
       "      <th>1593</th>\n",
       "      <td>TOYO</td>\n",
       "      <td>15970</td>\n",
       "    </tr>\n",
       "    <tr>\n",
       "      <th>1606</th>\n",
       "      <td>TOYT</td>\n",
       "      <td>14205</td>\n",
       "    </tr>\n",
       "    <tr>\n",
       "      <th>1599</th>\n",
       "      <td>TOYOT</td>\n",
       "      <td>277</td>\n",
       "    </tr>\n",
       "    <tr>\n",
       "      <th>1589</th>\n",
       "      <td>TOY</td>\n",
       "      <td>195</td>\n",
       "    </tr>\n",
       "    <tr>\n",
       "      <th>1611</th>\n",
       "      <td>TOYTA</td>\n",
       "      <td>23</td>\n",
       "    </tr>\n",
       "    <tr>\n",
       "      <th>1601</th>\n",
       "      <td>TOYOTA/</td>\n",
       "      <td>22</td>\n",
       "    </tr>\n",
       "    <tr>\n",
       "      <th>1612</th>\n",
       "      <td>TOYTO</td>\n",
       "      <td>9</td>\n",
       "    </tr>\n",
       "    <tr>\n",
       "      <th>1608</th>\n",
       "      <td>TOYT.</td>\n",
       "      <td>7</td>\n",
       "    </tr>\n",
       "    <tr>\n",
       "      <th>1597</th>\n",
       "      <td>TOYOA</td>\n",
       "      <td>7</td>\n",
       "    </tr>\n",
       "    <tr>\n",
       "      <th>1614</th>\n",
       "      <td>TOYTOTA</td>\n",
       "      <td>6</td>\n",
       "    </tr>\n",
       "    <tr>\n",
       "      <th>1605</th>\n",
       "      <td>TOYOYA</td>\n",
       "      <td>6</td>\n",
       "    </tr>\n",
       "    <tr>\n",
       "      <th>1613</th>\n",
       "      <td>TOYTOA</td>\n",
       "      <td>5</td>\n",
       "    </tr>\n",
       "    <tr>\n",
       "      <th>1594</th>\n",
       "      <td>TOYO /</td>\n",
       "      <td>4</td>\n",
       "    </tr>\n",
       "    <tr>\n",
       "      <th>1591</th>\n",
       "      <td>TOYA</td>\n",
       "      <td>3</td>\n",
       "    </tr>\n",
       "    <tr>\n",
       "      <th>1609</th>\n",
       "      <td>TOYT/</td>\n",
       "      <td>3</td>\n",
       "    </tr>\n",
       "    <tr>\n",
       "      <th>1648</th>\n",
       "      <td>TYMCO</td>\n",
       "      <td>2</td>\n",
       "    </tr>\n",
       "    <tr>\n",
       "      <th>1649</th>\n",
       "      <td>TYOT</td>\n",
       "      <td>2</td>\n",
       "    </tr>\n",
       "    <tr>\n",
       "      <th>1598</th>\n",
       "      <td>TOYOQ</td>\n",
       "      <td>1</td>\n",
       "    </tr>\n",
       "    <tr>\n",
       "      <th>1590</th>\n",
       "      <td>TOY0</td>\n",
       "      <td>1</td>\n",
       "    </tr>\n",
       "    <tr>\n",
       "      <th>1592</th>\n",
       "      <td>TOYD</td>\n",
       "      <td>1</td>\n",
       "    </tr>\n",
       "    <tr>\n",
       "      <th>1595</th>\n",
       "      <td>TOYO/</td>\n",
       "      <td>1</td>\n",
       "    </tr>\n",
       "    <tr>\n",
       "      <th>1596</th>\n",
       "      <td>TOYO0</td>\n",
       "      <td>1</td>\n",
       "    </tr>\n",
       "    <tr>\n",
       "      <th>1602</th>\n",
       "      <td>TOYOTAD</td>\n",
       "      <td>1</td>\n",
       "    </tr>\n",
       "    <tr>\n",
       "      <th>1603</th>\n",
       "      <td>TOYOTA`</td>\n",
       "      <td>1</td>\n",
       "    </tr>\n",
       "    <tr>\n",
       "      <th>1604</th>\n",
       "      <td>TOYOTOA</td>\n",
       "      <td>1</td>\n",
       "    </tr>\n",
       "    <tr>\n",
       "      <th>1607</th>\n",
       "      <td>TOYT /</td>\n",
       "      <td>1</td>\n",
       "    </tr>\n",
       "    <tr>\n",
       "      <th>1615</th>\n",
       "      <td>TOYTT</td>\n",
       "      <td>1</td>\n",
       "    </tr>\n",
       "    <tr>\n",
       "      <th>1616</th>\n",
       "      <td>TOYUTA</td>\n",
       "      <td>1</td>\n",
       "    </tr>\n",
       "    <tr>\n",
       "      <th>1617</th>\n",
       "      <td>TOYY</td>\n",
       "      <td>1</td>\n",
       "    </tr>\n",
       "    <tr>\n",
       "      <th>1610</th>\n",
       "      <td>TOYT/NIS</td>\n",
       "      <td>0</td>\n",
       "    </tr>\n",
       "  </tbody>\n",
       "</table>\n",
       "</div>"
      ],
      "text/plain": [
       "     vehicle_make   count\n",
       "1600       TOYOTA  215562\n",
       "1593         TOYO   15970\n",
       "1606         TOYT   14205\n",
       "1599        TOYOT     277\n",
       "1589          TOY     195\n",
       "1611        TOYTA      23\n",
       "1601      TOYOTA/      22\n",
       "1612        TOYTO       9\n",
       "1608        TOYT.       7\n",
       "1597        TOYOA       7\n",
       "1614      TOYTOTA       6\n",
       "1605       TOYOYA       6\n",
       "1613       TOYTOA       5\n",
       "1594       TOYO /       4\n",
       "1591         TOYA       3\n",
       "1609        TOYT/       3\n",
       "1648        TYMCO       2\n",
       "1649         TYOT       2\n",
       "1598        TOYOQ       1\n",
       "1590         TOY0       1\n",
       "1592         TOYD       1\n",
       "1595        TOYO/       1\n",
       "1596        TOYO0       1\n",
       "1602      TOYOTAD       1\n",
       "1603      TOYOTA`       1\n",
       "1604      TOYOTOA       1\n",
       "1607       TOYT /       1\n",
       "1615        TOYTT       1\n",
       "1616       TOYUTA       1\n",
       "1617         TOYY       1\n",
       "1610     TOYT/NIS       0"
      ]
     },
     "execution_count": 11,
     "metadata": {},
     "output_type": "execute_result"
    }
   ],
   "source": [
    "regex = r\"(TOYOTA.*|TOY.*|TY.*)\"\n",
    "\n",
    "just_makes = parties[[\"vehicle_make\", \"party_sex\"]]\\\n",
    "               .groupby(\"vehicle_make\")\\\n",
    "               .count()\\\n",
    "               .reset_index()\\\n",
    "               .rename(columns={\"party_sex\": \"count\"})\\\n",
    "               .sort_values(\"count\", ascending=False)\n",
    "\n",
    "just_makes[just_makes[\"vehicle_make\"].str.match(regex)]"
   ]
  }
 ],
 "metadata": {
  "kernelspec": {
   "display_name": "Python 3",
   "language": "python",
   "name": "python3"
  },
  "language_info": {
   "codemirror_mode": {
    "name": "ipython",
    "version": 3
   },
   "file_extension": ".py",
   "mimetype": "text/x-python",
   "name": "python",
   "nbconvert_exporter": "python",
   "pygments_lexer": "ipython3",
   "version": "3.8.3"
  }
 },
 "nbformat": 4,
 "nbformat_minor": 4
}
