{
 "cells": [
  {
   "cell_type": "code",
   "execution_count": 1,
   "metadata": {},
   "outputs": [],
   "source": [
    "import pandas as pd"
   ]
  },
  {
   "cell_type": "markdown",
   "metadata": {},
   "source": [
    "# Import the Dataframes from the raw HTML"
   ]
  },
  {
   "cell_type": "code",
   "execution_count": 2,
   "metadata": {},
   "outputs": [],
   "source": [
    "filename = \"./data/tdf_prizes.html\"\n",
    "df = pd.read_html(io=filename, header=0, index_col=0)[0]\n",
    "\n",
    "# Remove the spacing columns in the table\n",
    "df = df.drop(\n",
    "    columns=[\n",
    "        \"Unnamed: 2\",\n",
    "        \"Unnamed: 4\",\n",
    "        \"Unnamed: 6\",\n",
    "        \"Unnamed: 8\",\n",
    "        \"Unnamed: 9\",\n",
    "        \"Unnamed: 11\",\n",
    "    ]\n",
    ")\n",
    "\n",
    "# Drop the spacing row at the start\n",
    "df = df.drop(df.index[0])\n",
    "\n",
    "# Drop the missing data\n",
    "df = df.drop([\"1915 - 1918: No Tours held\", \"1940 - 1946: No Tours held\"])"
   ]
  },
  {
   "cell_type": "code",
   "execution_count": 3,
   "metadata": {},
   "outputs": [],
   "source": [
    "df = df.rename(\n",
    "    columns={\n",
    "        \"First prize in currency of era\": \"first_prize\",\n",
    "        \"Total prize pool in currency of era\": \"total\",\n",
    "        \"First prize in 2013 euros\": \"first_prize_adjusted_euro\",\n",
    "        \"Total prize pool in 2013 euros\": \"total_adjusted_euro\",\n",
    "        \"First prize in 2013 dollars\": \"first_prize_adjusted_usd\",\n",
    "        \"Total prize pool in 2013 dollars\": \"total_adjusted_usd\",\n",
    "    }\n",
    ")"
   ]
  },
  {
   "cell_type": "code",
   "execution_count": 4,
   "metadata": {},
   "outputs": [],
   "source": [
    "# Convert columns to floats, the index to a date, and use resample to fill in the missing years\n",
    "df = df.astype(\"float\")\n",
    "df.index = pd.to_datetime(df.index)\n",
    "df = df.resample(\"Y\").max()"
   ]
  },
  {
   "cell_type": "code",
   "execution_count": 5,
   "metadata": {},
   "outputs": [
    {
     "data": {
      "text/html": [
       "<div>\n",
       "<style scoped>\n",
       "    .dataframe tbody tr th:only-of-type {\n",
       "        vertical-align: middle;\n",
       "    }\n",
       "\n",
       "    .dataframe tbody tr th {\n",
       "        vertical-align: top;\n",
       "    }\n",
       "\n",
       "    .dataframe thead th {\n",
       "        text-align: right;\n",
       "    }\n",
       "</style>\n",
       "<table border=\"1\" class=\"dataframe\">\n",
       "  <thead>\n",
       "    <tr style=\"text-align: right;\">\n",
       "      <th></th>\n",
       "      <th>first_prize</th>\n",
       "      <th>total</th>\n",
       "      <th>first_prize_adjusted_euro</th>\n",
       "      <th>total_adjusted_euro</th>\n",
       "      <th>first_prize_adjusted_usd</th>\n",
       "      <th>total_adjusted_usd</th>\n",
       "    </tr>\n",
       "  </thead>\n",
       "  <tbody>\n",
       "    <tr>\n",
       "      <th>1903-12-31</th>\n",
       "      <td>3000.0</td>\n",
       "      <td>20000.0</td>\n",
       "      <td>11828.0</td>\n",
       "      <td>78851.0</td>\n",
       "      <td>15471.0</td>\n",
       "      <td>103138.0</td>\n",
       "    </tr>\n",
       "    <tr>\n",
       "      <th>1904-12-31</th>\n",
       "      <td>5000.0</td>\n",
       "      <td>21000.0</td>\n",
       "      <td>19993.0</td>\n",
       "      <td>83969.0</td>\n",
       "      <td>26151.0</td>\n",
       "      <td>109833.0</td>\n",
       "    </tr>\n",
       "    <tr>\n",
       "      <th>1905-12-31</th>\n",
       "      <td>4000.0</td>\n",
       "      <td>25000.0</td>\n",
       "      <td>16010.0</td>\n",
       "      <td>100063.0</td>\n",
       "      <td>20941.0</td>\n",
       "      <td>130884.0</td>\n",
       "    </tr>\n",
       "    <tr>\n",
       "      <th>1906-12-31</th>\n",
       "      <td>5000.0</td>\n",
       "      <td>25000.0</td>\n",
       "      <td>19756.0</td>\n",
       "      <td>98779.0</td>\n",
       "      <td>25841.0</td>\n",
       "      <td>129204.0</td>\n",
       "    </tr>\n",
       "    <tr>\n",
       "      <th>1907-12-31</th>\n",
       "      <td>4000.0</td>\n",
       "      <td>25000.0</td>\n",
       "      <td>15586.0</td>\n",
       "      <td>97415.0</td>\n",
       "      <td>20387.0</td>\n",
       "      <td>127420.0</td>\n",
       "    </tr>\n",
       "  </tbody>\n",
       "</table>\n",
       "</div>"
      ],
      "text/plain": [
       "            first_prize    total  first_prize_adjusted_euro  \\\n",
       "1903-12-31       3000.0  20000.0                    11828.0   \n",
       "1904-12-31       5000.0  21000.0                    19993.0   \n",
       "1905-12-31       4000.0  25000.0                    16010.0   \n",
       "1906-12-31       5000.0  25000.0                    19756.0   \n",
       "1907-12-31       4000.0  25000.0                    15586.0   \n",
       "\n",
       "            total_adjusted_euro  first_prize_adjusted_usd  total_adjusted_usd  \n",
       "1903-12-31              78851.0                   15471.0            103138.0  \n",
       "1904-12-31              83969.0                   26151.0            109833.0  \n",
       "1905-12-31             100063.0                   20941.0            130884.0  \n",
       "1906-12-31              98779.0                   25841.0            129204.0  \n",
       "1907-12-31              97415.0                   20387.0            127420.0  "
      ]
     },
     "execution_count": 5,
     "metadata": {},
     "output_type": "execute_result"
    }
   ],
   "source": [
    "df.head()"
   ]
  },
  {
   "cell_type": "code",
   "execution_count": 6,
   "metadata": {
    "scrolled": true
   },
   "outputs": [
    {
     "data": {
      "text/html": [
       "<div>\n",
       "<style scoped>\n",
       "    .dataframe tbody tr th:only-of-type {\n",
       "        vertical-align: middle;\n",
       "    }\n",
       "\n",
       "    .dataframe tbody tr th {\n",
       "        vertical-align: top;\n",
       "    }\n",
       "\n",
       "    .dataframe thead th {\n",
       "        text-align: right;\n",
       "    }\n",
       "</style>\n",
       "<table border=\"1\" class=\"dataframe\">\n",
       "  <thead>\n",
       "    <tr style=\"text-align: right;\">\n",
       "      <th></th>\n",
       "      <th>first_prize</th>\n",
       "      <th>total</th>\n",
       "      <th>first_prize_adjusted_euro</th>\n",
       "      <th>total_adjusted_euro</th>\n",
       "      <th>first_prize_adjusted_usd</th>\n",
       "      <th>total_adjusted_usd</th>\n",
       "    </tr>\n",
       "  </thead>\n",
       "  <tbody>\n",
       "    <tr>\n",
       "      <th>2009-12-31</th>\n",
       "      <td>450000.0</td>\n",
       "      <td>3200000.0</td>\n",
       "      <td>479760.0</td>\n",
       "      <td>3411625.0</td>\n",
       "      <td>627532.0</td>\n",
       "      <td>4462450.0</td>\n",
       "    </tr>\n",
       "    <tr>\n",
       "      <th>2010-12-31</th>\n",
       "      <td>450000.0</td>\n",
       "      <td>3200000.0</td>\n",
       "      <td>472556.0</td>\n",
       "      <td>3360399.0</td>\n",
       "      <td>618110.0</td>\n",
       "      <td>4395446.0</td>\n",
       "    </tr>\n",
       "    <tr>\n",
       "      <th>2011-12-31</th>\n",
       "      <td>450000.0</td>\n",
       "      <td>3412546.0</td>\n",
       "      <td>462951.0</td>\n",
       "      <td>3510762.0</td>\n",
       "      <td>605546.0</td>\n",
       "      <td>4592122.0</td>\n",
       "    </tr>\n",
       "    <tr>\n",
       "      <th>2012-12-31</th>\n",
       "      <td>450000.0</td>\n",
       "      <td>3414246.0</td>\n",
       "      <td>453890.0</td>\n",
       "      <td>3509384.0</td>\n",
       "      <td>593694.0</td>\n",
       "      <td>4590320.0</td>\n",
       "    </tr>\n",
       "    <tr>\n",
       "      <th>2013-12-31</th>\n",
       "      <td>450000.0</td>\n",
       "      <td>2023300.0</td>\n",
       "      <td>450001.0</td>\n",
       "      <td>2023304.0</td>\n",
       "      <td>588607.0</td>\n",
       "      <td>2646508.0</td>\n",
       "    </tr>\n",
       "  </tbody>\n",
       "</table>\n",
       "</div>"
      ],
      "text/plain": [
       "            first_prize      total  first_prize_adjusted_euro  \\\n",
       "2009-12-31     450000.0  3200000.0                   479760.0   \n",
       "2010-12-31     450000.0  3200000.0                   472556.0   \n",
       "2011-12-31     450000.0  3412546.0                   462951.0   \n",
       "2012-12-31     450000.0  3414246.0                   453890.0   \n",
       "2013-12-31     450000.0  2023300.0                   450001.0   \n",
       "\n",
       "            total_adjusted_euro  first_prize_adjusted_usd  total_adjusted_usd  \n",
       "2009-12-31            3411625.0                  627532.0           4462450.0  \n",
       "2010-12-31            3360399.0                  618110.0           4395446.0  \n",
       "2011-12-31            3510762.0                  605546.0           4592122.0  \n",
       "2012-12-31            3509384.0                  593694.0           4590320.0  \n",
       "2013-12-31            2023304.0                  588607.0           2646508.0  "
      ]
     },
     "execution_count": 6,
     "metadata": {},
     "output_type": "execute_result"
    }
   ],
   "source": [
    "df.tail()"
   ]
  },
  {
   "cell_type": "markdown",
   "metadata": {},
   "source": [
    "# Save as JSON"
   ]
  },
  {
   "cell_type": "code",
   "execution_count": 7,
   "metadata": {},
   "outputs": [],
   "source": [
    "df.to_json(\"./data/tdf_prizes_dataframe.json\", orient=\"table\")"
   ]
  }
 ],
 "metadata": {
  "kernelspec": {
   "display_name": "Python 3",
   "language": "python",
   "name": "python3"
  },
  "language_info": {
   "codemirror_mode": {
    "name": "ipython",
    "version": 3
   },
   "file_extension": ".py",
   "mimetype": "text/x-python",
   "name": "python",
   "nbconvert_exporter": "python",
   "pygments_lexer": "ipython3",
   "version": "3.7.3"
  }
 },
 "nbformat": 4,
 "nbformat_minor": 2
}
