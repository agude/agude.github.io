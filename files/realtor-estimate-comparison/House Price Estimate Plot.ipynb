{
 "cells": [
  {
   "cell_type": "code",
   "execution_count": 1,
   "metadata": {
    "tags": []
   },
   "outputs": [],
   "source": [
    "%load_ext lab_black"
   ]
  },
  {
   "cell_type": "code",
   "execution_count": 2,
   "metadata": {},
   "outputs": [],
   "source": [
    "import matplotlib.pyplot as plt\n",
    "import numpy as np\n",
    "import pandas as pd\n",
    "import seaborn as sns\n",
    "\n",
    "from matplotlib.ticker import FuncFormatter\n",
    "from matplotlib.transforms import Affine2D\n",
    "from matplotlib.lines import Line2D"
   ]
  },
  {
   "cell_type": "code",
   "execution_count": 3,
   "metadata": {},
   "outputs": [],
   "source": [
    "# Metadata saved to output plots\n",
    "METADATA = {\"Contributor\": \"Alexander Gude\", \"Rights\": \"CC-BY-SA 4.0\"}"
   ]
  },
  {
   "cell_type": "code",
   "execution_count": 4,
   "metadata": {},
   "outputs": [],
   "source": [
    "# Show plots inline\n",
    "%matplotlib inline"
   ]
  },
  {
   "cell_type": "code",
   "execution_count": 5,
   "metadata": {},
   "outputs": [],
   "source": [
    "COLORS = {\n",
    "    \"zillow\": \"#006AFF\",\n",
    "    \"redfin\": \"#E62E2E\",\n",
    "    \"xome\": \"#FF5C39\",\n",
    "    \"realtor.com\": \"#D92228\",\n",
    "}"
   ]
  },
  {
   "cell_type": "markdown",
   "metadata": {
    "tags": []
   },
   "source": [
    "# Helper functions"
   ]
  },
  {
   "cell_type": "code",
   "execution_count": 6,
   "metadata": {},
   "outputs": [],
   "source": [
    "# We should be able to just set rcParams, expect Jupyter has a bug:\n",
    "# https://github.com/jupyter/notebook/issues/3385\n",
    "#\n",
    "# So we have to call this function every time we want to plot.\n",
    "\n",
    "\n",
    "def setup_plot(title=None, xlabel=None, ylabel=None):\n",
    "    \"\"\"Set up a simple, single pane plot with custom configuration.\n",
    "\n",
    "    Args:\n",
    "        title (str, optional): The title of the plot.\n",
    "        xlabel (str, optional): The xlabel of the plot.\n",
    "        ylabel (str, optional): The ylabel of the plot.\n",
    "\n",
    "    Returns:\n",
    "        (fig, ax): A Matplotlib figure and axis object.\n",
    "\n",
    "    \"\"\"\n",
    "    # Plot Size\n",
    "    plt.rcParams[\"figure.figsize\"] = (12, 7)  # (Width, height)\n",
    "\n",
    "    # Text Size\n",
    "    SMALL = 12\n",
    "    MEDIUM = 16\n",
    "    LARGE = 20\n",
    "    HUGE = 28\n",
    "    plt.rcParams[\"axes.titlesize\"] = HUGE\n",
    "    plt.rcParams[\"figure.titlesize\"] = HUGE\n",
    "    plt.rcParams[\"axes.labelsize\"] = LARGE\n",
    "    plt.rcParams[\"legend.fontsize\"] = LARGE\n",
    "    plt.rcParams[\"xtick.labelsize\"] = MEDIUM\n",
    "    plt.rcParams[\"ytick.labelsize\"] = MEDIUM\n",
    "    plt.rcParams[\"font.size\"] = SMALL\n",
    "\n",
    "    # Legend\n",
    "    plt.rcParams[\"legend.frameon\"] = True\n",
    "    plt.rcParams[\"legend.framealpha\"] = 1\n",
    "    plt.rcParams[\"legend.facecolor\"] = \"white\"\n",
    "    plt.rcParams[\"legend.edgecolor\"] = \"black\"\n",
    "\n",
    "    # Figure output\n",
    "    plt.rcParams[\"savefig.dpi\"] = 300\n",
    "\n",
    "    # Make the plol\n",
    "    fig, ax = plt.subplots()\n",
    "    ax.set_title(title)\n",
    "    ax.set_xlabel(xlabel)\n",
    "    ax.set_ylabel(ylabel)\n",
    "\n",
    "    # Make the title and label area opaque instead of transparent\n",
    "    fig.patch.set_facecolor(ax.get_facecolor())\n",
    "\n",
    "    return fig, ax"
   ]
  },
  {
   "cell_type": "code",
   "execution_count": 7,
   "metadata": {},
   "outputs": [],
   "source": [
    "def draw_colored_legend(ax):\n",
    "    \"\"\"Draw a legend for the plot with the text colored to match the points.\n",
    "\n",
    "    Args:\n",
    "        ax (matplotlib axis): The axis to draw on.\n",
    "\n",
    "    \"\"\"\n",
    "    # Draw a legend where there is no space around the line/point so\n",
    "    # that the text is in the right place when we turn off the line/point.\n",
    "    legend = ax.legend(handlelength=0, handletextpad=0)\n",
    "\n",
    "    handles = legend.legendHandles\n",
    "    texts = legend.get_texts()\n",
    "    for handle, text in zip(handles, texts):\n",
    "        # Change the color of the text to match the line or points\n",
    "        try:\n",
    "            # Points and some other objects have this\n",
    "            color = handle.get_facecolor()[0]\n",
    "        except AttributeError:\n",
    "            # Lines have this\n",
    "            color = handle.get_color()\n",
    "\n",
    "        text.set_color(color)\n",
    "\n",
    "        # Turn off the point\n",
    "        handle.set_visible(False)"
   ]
  },
  {
   "cell_type": "code",
   "execution_count": 8,
   "metadata": {},
   "outputs": [],
   "source": [
    "def save_plot(fig, filename):\n",
    "    \"\"\"Save the plot with metadata and tight layout.\n",
    "\n",
    "    Args:\n",
    "        fig (matplotlib figure): The figure to save.\n",
    "        filename (str): The loction to save the file to.\n",
    "\n",
    "    \"\"\"\n",
    "    metadata = METADATA\n",
    "\n",
    "    fig.savefig(\n",
    "        fname=f\"{filename}\",\n",
    "        bbox_inches=\"tight\",\n",
    "        metadata=metadata,\n",
    "    )"
   ]
  },
  {
   "cell_type": "code",
   "execution_count": 9,
   "metadata": {},
   "outputs": [],
   "source": [
    "def number_formatter(number, pos=None):\n",
    "    \"\"\"Convert a number into a human readable format.\n",
    "\n",
    "    Via https://flynn.gg/blog/better-matplotlib-charts/\"\"\"\n",
    "    number /= 1000.0\n",
    "\n",
    "    return f\"${number:,.0f}K\""
   ]
  },
  {
   "cell_type": "markdown",
   "metadata": {},
   "source": [
    "# Data"
   ]
  },
  {
   "cell_type": "code",
   "execution_count": 10,
   "metadata": {},
   "outputs": [
    {
     "data": {
      "text/html": [
       "<div>\n",
       "<style scoped>\n",
       "    .dataframe tbody tr th:only-of-type {\n",
       "        vertical-align: middle;\n",
       "    }\n",
       "\n",
       "    .dataframe tbody tr th {\n",
       "        vertical-align: top;\n",
       "    }\n",
       "\n",
       "    .dataframe thead th {\n",
       "        text-align: right;\n",
       "    }\n",
       "</style>\n",
       "<table border=\"1\" class=\"dataframe\">\n",
       "  <thead>\n",
       "    <tr style=\"text-align: right;\">\n",
       "      <th></th>\n",
       "      <th>pre_estimate</th>\n",
       "      <th>pre_low</th>\n",
       "      <th>pre_high</th>\n",
       "      <th>post_estimate</th>\n",
       "      <th>post_sale_estimate</th>\n",
       "      <th>post_sale_low</th>\n",
       "      <th>post_sale_high</th>\n",
       "    </tr>\n",
       "    <tr>\n",
       "      <th>company</th>\n",
       "      <th></th>\n",
       "      <th></th>\n",
       "      <th></th>\n",
       "      <th></th>\n",
       "      <th></th>\n",
       "      <th></th>\n",
       "      <th></th>\n",
       "    </tr>\n",
       "  </thead>\n",
       "  <tbody>\n",
       "    <tr>\n",
       "      <th>zillow</th>\n",
       "      <td>938000</td>\n",
       "      <td>NaN</td>\n",
       "      <td>NaN</td>\n",
       "      <td>941000.0</td>\n",
       "      <td>1077400.0</td>\n",
       "      <td>NaN</td>\n",
       "      <td>NaN</td>\n",
       "    </tr>\n",
       "    <tr>\n",
       "      <th>actual</th>\n",
       "      <td>948500</td>\n",
       "      <td>NaN</td>\n",
       "      <td>NaN</td>\n",
       "      <td>1070000.0</td>\n",
       "      <td>NaN</td>\n",
       "      <td>NaN</td>\n",
       "      <td>NaN</td>\n",
       "    </tr>\n",
       "    <tr>\n",
       "      <th>realtor.com</th>\n",
       "      <td>977100</td>\n",
       "      <td>NaN</td>\n",
       "      <td>NaN</td>\n",
       "      <td>NaN</td>\n",
       "      <td>1105000.0</td>\n",
       "      <td>NaN</td>\n",
       "      <td>NaN</td>\n",
       "    </tr>\n",
       "    <tr>\n",
       "      <th>xome</th>\n",
       "      <td>1040140</td>\n",
       "      <td>949000.0</td>\n",
       "      <td>1130000.0</td>\n",
       "      <td>NaN</td>\n",
       "      <td>1074820.0</td>\n",
       "      <td>961337.0</td>\n",
       "      <td>1165355.0</td>\n",
       "    </tr>\n",
       "    <tr>\n",
       "      <th>redfin</th>\n",
       "      <td>1144535</td>\n",
       "      <td>NaN</td>\n",
       "      <td>NaN</td>\n",
       "      <td>962551.0</td>\n",
       "      <td>1090365.0</td>\n",
       "      <td>NaN</td>\n",
       "      <td>NaN</td>\n",
       "    </tr>\n",
       "  </tbody>\n",
       "</table>\n",
       "</div>"
      ],
      "text/plain": [
       "             pre_estimate   pre_low   pre_high  post_estimate  \\\n",
       "company                                                         \n",
       "zillow             938000       NaN        NaN       941000.0   \n",
       "actual             948500       NaN        NaN      1070000.0   \n",
       "realtor.com        977100       NaN        NaN            NaN   \n",
       "xome              1040140  949000.0  1130000.0            NaN   \n",
       "redfin            1144535       NaN        NaN       962551.0   \n",
       "\n",
       "             post_sale_estimate  post_sale_low  post_sale_high  \n",
       "company                                                         \n",
       "zillow                1077400.0            NaN             NaN  \n",
       "actual                      NaN            NaN             NaN  \n",
       "realtor.com           1105000.0            NaN             NaN  \n",
       "xome                  1074820.0       961337.0       1165355.0  \n",
       "redfin                1090365.0            NaN             NaN  "
      ]
     },
     "execution_count": 10,
     "metadata": {},
     "output_type": "execute_result"
    }
   ],
   "source": [
    "df = pd.read_csv(\"./data.csv\", header=0, index_col=\"company\").sort_values(\n",
    "    \"pre_estimate\"\n",
    ")\n",
    "\n",
    "df"
   ]
  },
  {
   "cell_type": "code",
   "execution_count": 11,
   "metadata": {},
   "outputs": [],
   "source": [
    "list_price = df.loc[\"actual\", \"pre_estimate\"].item()\n",
    "sold_price = df.loc[\"actual\", \"post_estimate\"].item()"
   ]
  },
  {
   "cell_type": "code",
   "execution_count": 12,
   "metadata": {},
   "outputs": [],
   "source": [
    "companies_df = df.drop(\"actual\")"
   ]
  },
  {
   "cell_type": "code",
   "execution_count": 13,
   "metadata": {},
   "outputs": [],
   "source": [
    "company_names = [c.capitalize() for c in companies_df.index]"
   ]
  },
  {
   "cell_type": "code",
   "execution_count": 14,
   "metadata": {},
   "outputs": [],
   "source": [
    "color_list = [COLORS.get(company.lower()) for company in company_names]"
   ]
  },
  {
   "cell_type": "code",
   "execution_count": 15,
   "metadata": {},
   "outputs": [],
   "source": [
    "pre_estimates = companies_df[\"pre_estimate\"].values\n",
    "post_estimates = companies_df[\"post_estimate\"].values\n",
    "post_sale_estimates = companies_df[\"post_sale_estimate\"].values"
   ]
  },
  {
   "cell_type": "code",
   "execution_count": 16,
   "metadata": {},
   "outputs": [],
   "source": [
    "y_errors = [\n",
    "    pre_estimates - companies_df[\"pre_low\"].values,\n",
    "    companies_df[\"pre_high\"].values - pre_estimates,\n",
    "]\n",
    "\n",
    "y_errors_post_sale = [\n",
    "    post_sale_estimates - companies_df[\"post_sale_low\"].values,\n",
    "    companies_df[\"post_sale_high\"].values - post_sale_estimates,\n",
    "]"
   ]
  },
  {
   "cell_type": "markdown",
   "metadata": {
    "tags": []
   },
   "source": [
    "# Plotting"
   ]
  },
  {
   "cell_type": "code",
   "execution_count": 17,
   "metadata": {},
   "outputs": [
    {
     "data": {
      "image/png": "[encoded data removed]",
      "text/plain": [
       "<Figure size 864x504 with 1 Axes>"
      ]
     },
     "metadata": {},
     "output_type": "display_data"
    }
   ],
   "source": [
    "fig, ax = setup_plot(\"Online Realtor Price Estimate Pre- and Post-sale\")\n",
    "\n",
    "# Format y-axis for dollars\n",
    "ax.yaxis.set_major_formatter(FuncFormatter(number_formatter))\n",
    "\n",
    "# Scatter plot uses a different size that is the square of the marker size\n",
    "marker_size = 18\n",
    "scatter_size = marker_size ** 2\n",
    "pre_list_marker = \"o\"\n",
    "post_list_marker = \"^\"\n",
    "post_sale_marker = \"s\"\n",
    "\n",
    "\n",
    "# Plot estimates\n",
    "\n",
    "# Use affine2d to push the values over slightly to avoid overlap\n",
    "shift_left = Affine2D().translate(-0.1, 0.0) + ax.transData\n",
    "\n",
    "# For errorbar, the best way to match the color is to do a for loop, unfortunately.\n",
    "# See: https://stackoverflow.com/a/21915157/1342354\n",
    "for x, y, color, y_low, y_high in zip(\n",
    "    company_names, pre_estimates, color_list, y_errors[0], y_errors[1]\n",
    "):\n",
    "    yerr = [[y_low], [y_high]]\n",
    "    ax.errorbar(\n",
    "        x=x,\n",
    "        y=y,\n",
    "        yerr=yerr,\n",
    "        markersize=marker_size,\n",
    "        c=color,\n",
    "        label=\"Pre-Listing Estimate\",\n",
    "        capsize=10,\n",
    "        capthick=3,\n",
    "        elinewidth=3,\n",
    "        fmt=pre_list_marker,\n",
    "        transform=shift_left,\n",
    "    )\n",
    "\n",
    "ax.scatter(\n",
    "    x=company_names,\n",
    "    y=post_estimates,\n",
    "    color=color_list,\n",
    "    s=scatter_size,\n",
    "    label=\"Post-Listing Estimate\",\n",
    "    marker=post_list_marker,\n",
    ")\n",
    "\n",
    "shift_right = Affine2D().translate(0.1, 0.0) + ax.transData\n",
    "for x, y, color, y_low, y_high in zip(\n",
    "    company_names,\n",
    "    post_sale_estimates,\n",
    "    color_list,\n",
    "    y_errors_post_sale[0],\n",
    "    y_errors_post_sale[1],\n",
    "):\n",
    "    yerr = [[y_low], [y_high]]\n",
    "    ax.errorbar(\n",
    "        x=x,\n",
    "        y=y,\n",
    "        yerr=yerr,\n",
    "        markersize=marker_size,\n",
    "        c=color,\n",
    "        label=\"Post-sale Estimate\",\n",
    "        capsize=10,\n",
    "        capthick=3,\n",
    "        elinewidth=3,\n",
    "        fmt=post_sale_marker,\n",
    "        transform=shift_right,\n",
    "    )\n",
    "\n",
    "# Draw list and sales prices\n",
    "ax.axhline(y=list_price, color=\"black\", zorder=1, linestyle=\"dashed\")\n",
    "ax.axhline(y=sold_price, color=\"black\", zorder=1)\n",
    "\n",
    "ax.text(x=\"Zillow\", y=list_price + 4500, s=f\"Listed: ${list_price:,.0f}\", fontsize=20)\n",
    "ax.text(x=\"Zillow\", y=sold_price - 12000, s=f\"Sold: ${sold_price:,.0f}\", fontsize=20)\n",
    "\n",
    "# Build a custom legend\n",
    "legend_elements = [\n",
    "    Line2D(\n",
    "        [0],\n",
    "        [0],\n",
    "        marker=pre_list_marker,\n",
    "        color=\"w\",  # remove line by setting color to white\n",
    "        label=\"Pre-listing\",\n",
    "        markerfacecolor=\"black\",\n",
    "        markersize=marker_size,\n",
    "    ),\n",
    "    Line2D(\n",
    "        [0],\n",
    "        [0],\n",
    "        marker=post_list_marker,\n",
    "        color=\"w\",\n",
    "        label=\"Post-listing\",\n",
    "        markerfacecolor=\"black\",\n",
    "        markersize=marker_size,\n",
    "    ),\n",
    "    Line2D(\n",
    "        [0],\n",
    "        [0],\n",
    "        marker=post_sale_marker,\n",
    "        color=\"w\",\n",
    "        label=\"Post-sale\",\n",
    "        markerfacecolor=\"black\",\n",
    "        markersize=marker_size,\n",
    "    ),\n",
    "]\n",
    "\n",
    "ax.legend(handles=legend_elements, loc=\"upper left\")\n",
    "\n",
    "# Adjust x-axis labels\n",
    "ax.xaxis.set_ticks_position(\"none\")  # Remove the line from ticks\n",
    "ax.yaxis.set_ticks_position(\"none\")\n",
    "\n",
    "for i, label in enumerate(ax.get_xticklabels()):\n",
    "    label.set_color(color_list[i])\n",
    "\n",
    "ax.tick_params(axis=\"x\", labelsize=24)\n",
    "\n",
    "sns.despine(top=True, bottom=True, left=True, right=True)\n",
    "\n",
    "\n",
    "for ext in (\"png\", \"svg\"):\n",
    "    save_plot(fig, f\"/tmp/home_price_estimate_comparison.{ext}\")"
   ]
  }
 ],
 "metadata": {
  "kernelspec": {
   "display_name": "Python 3 (ipykernel)",
   "language": "python",
   "name": "python3"
  },
  "language_info": {
   "codemirror_mode": {
    "name": "ipython",
    "version": 3
   },
   "file_extension": ".py",
   "mimetype": "text/x-python",
   "name": "python",
   "nbconvert_exporter": "python",
   "pygments_lexer": "ipython3",
   "version": "3.9.9"
  }
 },
 "nbformat": 4,
 "nbformat_minor": 4
}
